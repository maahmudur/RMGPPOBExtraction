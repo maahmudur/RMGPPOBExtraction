{
 "cells": [
  {
   "cell_type": "code",
   "execution_count": 78,
   "metadata": {},
   "outputs": [],
   "source": [
    "import os #this module provides a portable way of using operating system dependent functionality\n",
    "import pandas as pd #library providing high-performance, easy-to-use data structures and data analysis tools\n",
    "import numpy as np #fundamental package for high-level mathematical functions\n",
    "import xlrd #library for developers to extract data from Microsoft Excel spreadsheet files\n",
    "from tqdm import tqdm # to show progress in some log loops\n",
    "from IPython.core.display import HTML # to print some formatted HTML in jupyter notebook\n",
    "import datetime\n",
    "import ExcelExtraction"
   ]
  },
  {
   "cell_type": "code",
   "execution_count": 79,
   "metadata": {},
   "outputs": [
    {
     "data": {
      "text/plain": [
       "20"
      ]
     },
     "execution_count": 79,
     "metadata": {},
     "output_type": "execute_result"
    }
   ],
   "source": [
    "path = r\"..\\Raw\\20200115\"\n",
    "count = 0\n",
    "for root, dirs, files in os.walk(path):\n",
    "    for file_ in files:\n",
    "        count += 1\n",
    "count"
   ]
  },
  {
   "cell_type": "markdown",
   "metadata": {},
   "source": [
    "### Reading in all the files"
   ]
  },
  {
   "cell_type": "code",
   "execution_count": 80,
   "metadata": {},
   "outputs": [],
   "source": [
    "def extract_all_files(path):\n",
    "    \"\"\"\n",
    "    Keyword arguments:\n",
    "    path = string\n",
    "\n",
    "    goes through the folder structure of given path and collects all information and returns a list of pandas dataframe for further \n",
    "    processing\n",
    "    \"\"\"\n",
    "    all_dfs = []\n",
    "\n",
    "    for root, dirs, files in os.walk(path):\n",
    "        \n",
    "        for file_ in files:\n",
    "            \n",
    "            #skip if files not in xlsx, xls and csv file format \n",
    "            if not (file_.lower().endswith('xlsx') or file_.lower().endswith('xls') or file_.lower().endswith('csv') or file_.lower().endswith('xlsm') ):\n",
    "                continue\n",
    "\n",
    "            #skip any temp file\n",
    "            if file_.lower().startswith('~$'):\n",
    "                continue\n",
    "            \n",
    "            path_file = os.path.join(root, file_)\n",
    "\n",
    "\n",
    "            #handling csv files\n",
    "            if file_.endswith('csv'):\n",
    "                df = pd.read_csv(path_file, error_bad_lines=False, encoding='ISO-8859-1')\n",
    "                df['path'] = root\n",
    "                df['file'] = file_\n",
    "                df['sheet'] = 'csv'\n",
    "\n",
    "                all_dfs.append(df)\n",
    "\n",
    "            else:\n",
    "                try:\n",
    "                    #handling excel files\n",
    "                    excel = pd.ExcelFile(path_file)\n",
    "                    sheets = excel.sheet_names\n",
    "                    for sheet in sheets:\n",
    "                        if sheet!='Layout.':\n",
    "                            continue\n",
    "                        try:\n",
    "                            df = excel.parse(sheet, skiprows=1)\n",
    "                            df['path'] = root\n",
    "                            df['file'] = file_\n",
    "                            df['sheet'] = sheet\n",
    "                            if len(df) > 0:\n",
    "                                all_dfs.append(df)\n",
    "                        except ValueError: \n",
    "                            print(\"value_error occured, check if there's any empty rows or columns in the beginning of the sheet\")\n",
    "                            print(path, file_, sheet)\n",
    "                        except TypeError:\n",
    "                        \tprint(\"type_error occured\")\n",
    "                        \tprint(path, file_, sheet)    \n",
    "\n",
    "\n",
    "\n",
    "                except xlrd.XLRDError:\n",
    "                    print('XLRDError on ', path_file, sheets)\n",
    "\n",
    "    return all_dfs"
   ]
  },
  {
   "cell_type": "code",
   "execution_count": 81,
   "metadata": {},
   "outputs": [],
   "source": [
    "all_files = extract_all_files(path)"
   ]
  },
  {
   "cell_type": "code",
   "execution_count": 82,
   "metadata": {},
   "outputs": [
    {
     "data": {
      "text/plain": [
       "20"
      ]
     },
     "execution_count": 82,
     "metadata": {},
     "output_type": "execute_result"
    }
   ],
   "source": [
    "len(all_files)"
   ]
  },
  {
   "cell_type": "markdown",
   "metadata": {},
   "source": [
    "### Checking if 'Layout.' sheet has been picked or not"
   ]
  },
  {
   "cell_type": "code",
   "execution_count": 83,
   "metadata": {},
   "outputs": [
    {
     "data": {
      "text/plain": [
       "['Layout.']"
      ]
     },
     "execution_count": 83,
     "metadata": {},
     "output_type": "execute_result"
    }
   ],
   "source": [
    "sheets = []\n",
    "for key, df in enumerate(all_files):\n",
    "    if df.sheet.values[0] not in sheets:\n",
    "        sheets.append(df.sheet.values[0])\n",
    "sheets"
   ]
  },
  {
   "cell_type": "code",
   "execution_count": null,
   "metadata": {},
   "outputs": [],
   "source": []
  },
  {
   "cell_type": "code",
   "execution_count": null,
   "metadata": {},
   "outputs": [],
   "source": [
    "layout_dfs = []\n",
    "for key, df in enumerate(all_files):\n",
    "    if df.sheet.values[0]=='Layout.':\n",
    "        layout_dfs.append(df.copy())"
   ]
  },
  {
   "cell_type": "code",
   "execution_count": null,
   "metadata": {},
   "outputs": [],
   "source": [
    "len(layout_dfs)"
   ]
  },
  {
   "cell_type": "code",
   "execution_count": null,
   "metadata": {},
   "outputs": [],
   "source": []
  },
  {
   "cell_type": "code",
   "execution_count": 84,
   "metadata": {},
   "outputs": [],
   "source": [
    "file_sheet_keys = {}\n",
    "for key, df in enumerate(all_files):\n",
    "    file_sheet_keys[key] = (df.path.values[0], df.file.values[0], df.sheet.values[0])"
   ]
  },
  {
   "cell_type": "code",
   "execution_count": null,
   "metadata": {},
   "outputs": [],
   "source": []
  },
  {
   "cell_type": "markdown",
   "metadata": {},
   "source": [
    "### Collecting the primary data from top"
   ]
  },
  {
   "cell_type": "code",
   "execution_count": 85,
   "metadata": {},
   "outputs": [],
   "source": [
    "ob_info_df = pd.DataFrame(columns=['Buyer_OB','Style_OB','Order_number_OB' ,'path', 'file', 'sheet'] )\n",
    "\n",
    "for key, df in enumerate(all_files):\n",
    "    buyer_ = df.loc[1, 'Unnamed: 1']\n",
    "    style_ = df.loc[2, 'Unnamed: 1']\n",
    "    order_ = df.loc[3, 'Unnamed: 1']\n",
    "    ob_info_df.loc[len(ob_info_df)] = pd.Series( index = ['Buyer_OB','Style_OB','Order_number_OB', 'path', 'file', 'sheet'] ,\n",
    "                                                  data=[buyer_, style_, order_, df.path[0], df.file[0], df.sheet[0]]) "
   ]
  },
  {
   "cell_type": "code",
   "execution_count": 86,
   "metadata": {},
   "outputs": [
    {
     "data": {
      "text/plain": [
       "Buyer_OB           20\n",
       "Style_OB           20\n",
       "Order_number_OB     0\n",
       "path               20\n",
       "file               20\n",
       "sheet              20\n",
       "dtype: int64"
      ]
     },
     "execution_count": 86,
     "metadata": {},
     "output_type": "execute_result"
    }
   ],
   "source": [
    "ob_info_df.count()"
   ]
  },
  {
   "cell_type": "code",
   "execution_count": null,
   "metadata": {},
   "outputs": [],
   "source": []
  },
  {
   "cell_type": "code",
   "execution_count": 87,
   "metadata": {},
   "outputs": [],
   "source": [
    "ob_styles = ob_info_df.Style_OB.str.lower()"
   ]
  },
  {
   "cell_type": "code",
   "execution_count": 88,
   "metadata": {},
   "outputs": [
    {
     "data": {
      "text/plain": [
       "20"
      ]
     },
     "execution_count": 88,
     "metadata": {},
     "output_type": "execute_result"
    }
   ],
   "source": [
    "len(ob_styles)"
   ]
  },
  {
   "cell_type": "code",
   "execution_count": null,
   "metadata": {},
   "outputs": [],
   "source": []
  },
  {
   "cell_type": "markdown",
   "metadata": {},
   "source": [
    "### Collection the secondary data from next part"
   ]
  },
  {
   "cell_type": "code",
   "execution_count": 89,
   "metadata": {},
   "outputs": [],
   "source": [
    "process_info_df = pd.DataFrame(columns=['Process_OB','Machine_type_OB','Individual_SMV_OB',\n",
    "                                        'Standard_target_OB','Operator_OB','Helper_OB',\n",
    "                                        'Actual_target_OB','path', 'file', 'sheet'])\n",
    "\n",
    "for key, df in enumerate(all_files):\n",
    "    \n",
    "    try:\n",
    "        start_row = df[df[df.columns[1]]=='Operation'].index[0]\n",
    "    except IndexError:\n",
    "        start_row = df[df[df.columns[0]]=='No.'].index[0]\n",
    "        print(df.file[0])\n",
    "          \n",
    "    end_row   = df[df[df.columns[1]]=='TOTAL'].index[0]\n",
    "    \n",
    "    process_df = df.loc[start_row+2:end_row-1]\n",
    "    \n",
    "    process_df.rename(columns={\n",
    "        \n",
    "        'Unnamed: 1':'Process_OB',\n",
    "        'Unnamed: 2':'Machine_type_OB',\n",
    "        'Unnamed: 3':'Individual_SMV_OB',\n",
    "        'Unnamed: 4':'Standard_target_OB',\n",
    "        'Unnamed: 5':'Operator_OB',\n",
    "        'Unnamed: 6':'Helper_OB', \n",
    "        'Unnamed: 7':'Actual_target_OB',\n",
    "        \n",
    "    }, inplace=True)\n",
    "    process_df = process_df[process_info_df.columns]\n",
    "    \n",
    "    process_info_df = pd.concat([process_info_df, process_df], ignore_index=True)"
   ]
  },
  {
   "cell_type": "code",
   "execution_count": 90,
   "metadata": {},
   "outputs": [
    {
     "data": {
      "text/html": [
       "<div>\n",
       "<style scoped>\n",
       "    .dataframe tbody tr th:only-of-type {\n",
       "        vertical-align: middle;\n",
       "    }\n",
       "\n",
       "    .dataframe tbody tr th {\n",
       "        vertical-align: top;\n",
       "    }\n",
       "\n",
       "    .dataframe thead th {\n",
       "        text-align: right;\n",
       "    }\n",
       "</style>\n",
       "<table border=\"1\" class=\"dataframe\">\n",
       "  <thead>\n",
       "    <tr style=\"text-align: right;\">\n",
       "      <th></th>\n",
       "      <th>Process_OB</th>\n",
       "      <th>Machine_type_OB</th>\n",
       "      <th>Individual_SMV_OB</th>\n",
       "      <th>Standard_target_OB</th>\n",
       "      <th>Operator_OB</th>\n",
       "      <th>Helper_OB</th>\n",
       "      <th>Actual_target_OB</th>\n",
       "      <th>path</th>\n",
       "      <th>file</th>\n",
       "      <th>sheet</th>\n",
       "    </tr>\n",
       "  </thead>\n",
       "  <tbody>\n",
       "    <tr>\n",
       "      <th>11</th>\n",
       "      <td>Attach Shoulder (Both) - Chain Trim</td>\n",
       "      <td>O/L</td>\n",
       "      <td>0.303685</td>\n",
       "      <td>197.573</td>\n",
       "      <td>2</td>\n",
       "      <td>NaN</td>\n",
       "      <td>395.147</td>\n",
       "      <td>..\\Raw\\20200115</td>\n",
       "      <td>GUESS-K84I04 - SST with slv head gathering  (n...</td>\n",
       "      <td>Layout.</td>\n",
       "    </tr>\n",
       "    <tr>\n",
       "      <th>12</th>\n",
       "      <td>Attach Loop At Neck, 1 Loop With Fold</td>\n",
       "      <td>S/N</td>\n",
       "      <td>0.144</td>\n",
       "      <td>416.667</td>\n",
       "      <td>1</td>\n",
       "      <td>NaN</td>\n",
       "      <td>416.667</td>\n",
       "      <td>..\\Raw\\20200115</td>\n",
       "      <td>GUESS-K84I04 - SST with slv head gathering  (n...</td>\n",
       "      <td>Layout.</td>\n",
       "    </tr>\n",
       "    <tr>\n",
       "      <th>13</th>\n",
       "      <td>Attach Binding At Neck - Open, Auto Trim</td>\n",
       "      <td>F/L</td>\n",
       "      <td>0.163945</td>\n",
       "      <td>365.977</td>\n",
       "      <td>1</td>\n",
       "      <td>NaN</td>\n",
       "      <td>365.977</td>\n",
       "      <td>..\\Raw\\20200115</td>\n",
       "      <td>GUESS-K84I04 - SST with slv head gathering  (n...</td>\n",
       "      <td>Layout.</td>\n",
       "    </tr>\n",
       "    <tr>\n",
       "      <th>14</th>\n",
       "      <td>Neck Binding End M &amp; Cut</td>\n",
       "      <td>HEL</td>\n",
       "      <td>0.129</td>\n",
       "      <td>465.116</td>\n",
       "      <td>NaN</td>\n",
       "      <td>1</td>\n",
       "      <td>465.116</td>\n",
       "      <td>..\\Raw\\20200115</td>\n",
       "      <td>GUESS-K84I04 - SST with slv head gathering  (n...</td>\n",
       "      <td>Layout.</td>\n",
       "    </tr>\n",
       "    <tr>\n",
       "      <th>15</th>\n",
       "      <td>Tack Inner &amp; Outer At Neck Binding End</td>\n",
       "      <td>S/N</td>\n",
       "      <td>0.201</td>\n",
       "      <td>298.507</td>\n",
       "      <td>2</td>\n",
       "      <td>NaN</td>\n",
       "      <td>597.015</td>\n",
       "      <td>..\\Raw\\20200115</td>\n",
       "      <td>GUESS-K84I04 - SST with slv head gathering  (n...</td>\n",
       "      <td>Layout.</td>\n",
       "    </tr>\n",
       "  </tbody>\n",
       "</table>\n",
       "</div>"
      ],
      "text/plain": [
       "                                  Process_OB Machine_type_OB  \\\n",
       "11       Attach Shoulder (Both) - Chain Trim             O/L   \n",
       "12     Attach Loop At Neck, 1 Loop With Fold             S/N   \n",
       "13  Attach Binding At Neck - Open, Auto Trim             F/L   \n",
       "14                  Neck Binding End M & Cut             HEL   \n",
       "15    Tack Inner & Outer At Neck Binding End             S/N   \n",
       "\n",
       "   Individual_SMV_OB Standard_target_OB Operator_OB Helper_OB  \\\n",
       "11          0.303685            197.573           2       NaN   \n",
       "12             0.144            416.667           1       NaN   \n",
       "13          0.163945            365.977           1       NaN   \n",
       "14             0.129            465.116         NaN         1   \n",
       "15             0.201            298.507           2       NaN   \n",
       "\n",
       "   Actual_target_OB             path  \\\n",
       "11          395.147  ..\\Raw\\20200115   \n",
       "12          416.667  ..\\Raw\\20200115   \n",
       "13          365.977  ..\\Raw\\20200115   \n",
       "14          465.116  ..\\Raw\\20200115   \n",
       "15          597.015  ..\\Raw\\20200115   \n",
       "\n",
       "                                                 file    sheet  \n",
       "11  GUESS-K84I04 - SST with slv head gathering  (n...  Layout.  \n",
       "12  GUESS-K84I04 - SST with slv head gathering  (n...  Layout.  \n",
       "13  GUESS-K84I04 - SST with slv head gathering  (n...  Layout.  \n",
       "14  GUESS-K84I04 - SST with slv head gathering  (n...  Layout.  \n",
       "15  GUESS-K84I04 - SST with slv head gathering  (n...  Layout.  "
      ]
     },
     "execution_count": 90,
     "metadata": {},
     "output_type": "execute_result"
    }
   ],
   "source": [
    "process_df.head()"
   ]
  },
  {
   "cell_type": "code",
   "execution_count": 91,
   "metadata": {},
   "outputs": [
    {
     "data": {
      "text/plain": [
       "Process_OB            427\n",
       "Machine_type_OB       415\n",
       "Individual_SMV_OB     415\n",
       "Standard_target_OB    415\n",
       "Operator_OB           319\n",
       "Helper_OB              97\n",
       "Actual_target_OB      415\n",
       "path                  447\n",
       "file                  447\n",
       "sheet                 447\n",
       "dtype: int64"
      ]
     },
     "execution_count": 91,
     "metadata": {},
     "output_type": "execute_result"
    }
   ],
   "source": [
    "process_info_df.count()"
   ]
  },
  {
   "cell_type": "code",
   "execution_count": null,
   "metadata": {},
   "outputs": [],
   "source": []
  },
  {
   "cell_type": "code",
   "execution_count": 92,
   "metadata": {},
   "outputs": [],
   "source": [
    "ob_df = pd.merge(ob_info_df, process_info_df, on=['path', 'file', 'sheet'])"
   ]
  },
  {
   "cell_type": "code",
   "execution_count": 93,
   "metadata": {},
   "outputs": [
    {
     "data": {
      "text/plain": [
       "(20, 447, 447)"
      ]
     },
     "execution_count": 93,
     "metadata": {},
     "output_type": "execute_result"
    }
   ],
   "source": [
    "len(ob_info_df), len(process_info_df), len(ob_df)"
   ]
  },
  {
   "cell_type": "code",
   "execution_count": 94,
   "metadata": {},
   "outputs": [
    {
     "data": {
      "text/plain": [
       "Buyer_OB              20\n",
       "Style_OB              20\n",
       "Order_number_OB        0\n",
       "path                  20\n",
       "file                  20\n",
       "sheet                 20\n",
       "Process_OB             0\n",
       "Machine_type_OB        0\n",
       "Individual_SMV_OB      0\n",
       "Standard_target_OB     0\n",
       "Operator_OB            0\n",
       "Helper_OB              0\n",
       "Actual_target_OB       0\n",
       "dtype: int64"
      ]
     },
     "execution_count": 94,
     "metadata": {},
     "output_type": "execute_result"
    }
   ],
   "source": [
    "ob_df[ pd.isnull(ob_df.Process_OB) ].count()"
   ]
  },
  {
   "cell_type": "code",
   "execution_count": 95,
   "metadata": {},
   "outputs": [],
   "source": [
    "ob_df = ob_df[pd.notnull(ob_df.Process_OB)]"
   ]
  },
  {
   "cell_type": "code",
   "execution_count": 96,
   "metadata": {},
   "outputs": [],
   "source": [
    "ob_df.drop(['sheet'], axis=1, inplace=True)"
   ]
  },
  {
   "cell_type": "code",
   "execution_count": 97,
   "metadata": {},
   "outputs": [
    {
     "data": {
      "text/plain": [
       "427"
      ]
     },
     "execution_count": 97,
     "metadata": {},
     "output_type": "execute_result"
    }
   ],
   "source": [
    "len(ob_df)"
   ]
  },
  {
   "cell_type": "code",
   "execution_count": 98,
   "metadata": {},
   "outputs": [],
   "source": [
    "ob_df.Operator_OB = ob_df.Operator_OB.replace(np.nan, 0)\n",
    "ob_df.Helper_OB = ob_df.Helper_OB.replace(np.nan, 0)"
   ]
  },
  {
   "cell_type": "code",
   "execution_count": 99,
   "metadata": {},
   "outputs": [
    {
     "name": "stdout",
     "output_type": "stream",
     "text": [
      "<class 'pandas.core.frame.DataFrame'>\n",
      "Int64Index: 427 entries, 0 to 445\n",
      "Data columns (total 12 columns):\n",
      "Buyer_OB              427 non-null object\n",
      "Style_OB              427 non-null object\n",
      "Order_number_OB       0 non-null object\n",
      "path                  427 non-null object\n",
      "file                  427 non-null object\n",
      "Process_OB            427 non-null object\n",
      "Machine_type_OB       415 non-null object\n",
      "Individual_SMV_OB     415 non-null object\n",
      "Standard_target_OB    415 non-null object\n",
      "Operator_OB           427 non-null float64\n",
      "Helper_OB             427 non-null float64\n",
      "Actual_target_OB      415 non-null object\n",
      "dtypes: float64(2), object(10)\n",
      "memory usage: 43.4+ KB\n"
     ]
    }
   ],
   "source": [
    "ob_df.info()"
   ]
  },
  {
   "cell_type": "code",
   "execution_count": null,
   "metadata": {},
   "outputs": [],
   "source": []
  },
  {
   "cell_type": "code",
   "execution_count": 100,
   "metadata": {},
   "outputs": [],
   "source": [
    "originalDF = ob_df.copy()"
   ]
  },
  {
   "cell_type": "code",
   "execution_count": null,
   "metadata": {},
   "outputs": [],
   "source": []
  },
  {
   "cell_type": "code",
   "execution_count": 101,
   "metadata": {},
   "outputs": [
    {
     "data": {
      "text/plain": [
       "(375, 427)"
      ]
     },
     "execution_count": 101,
     "metadata": {},
     "output_type": "execute_result"
    }
   ],
   "source": [
    "len(ob_df.drop_duplicates(['Style_OB', 'Process_OB'])), len(ob_df)"
   ]
  },
  {
   "cell_type": "code",
   "execution_count": 102,
   "metadata": {},
   "outputs": [],
   "source": [
    "ob_df.drop_duplicates(['Style_OB', 'Process_OB'],inplace=True)"
   ]
  },
  {
   "cell_type": "code",
   "execution_count": 103,
   "metadata": {},
   "outputs": [],
   "source": [
    "ob_df.reset_index(drop=True,inplace=True)"
   ]
  },
  {
   "cell_type": "code",
   "execution_count": 104,
   "metadata": {},
   "outputs": [],
   "source": [
    "ob_df['Style_OB'] = ob_df['Style_OB'].str.lower()"
   ]
  },
  {
   "cell_type": "code",
   "execution_count": 105,
   "metadata": {},
   "outputs": [
    {
     "data": {
      "text/plain": [
       "..\\Raw\\20200115    375\n",
       "Name: path, dtype: int64"
      ]
     },
     "execution_count": 105,
     "metadata": {},
     "output_type": "execute_result"
    }
   ],
   "source": [
    "ob_df.path.value_counts()"
   ]
  },
  {
   "cell_type": "code",
   "execution_count": 106,
   "metadata": {},
   "outputs": [
    {
     "data": {
      "text/plain": [
       "Buyer_OB              375\n",
       "Style_OB              375\n",
       "Order_number_OB         0\n",
       "path                  375\n",
       "file                  375\n",
       "Process_OB            375\n",
       "Machine_type_OB       363\n",
       "Individual_SMV_OB     363\n",
       "Standard_target_OB    363\n",
       "Operator_OB           375\n",
       "Helper_OB             375\n",
       "Actual_target_OB      363\n",
       "dtype: int64"
      ]
     },
     "execution_count": 106,
     "metadata": {},
     "output_type": "execute_result"
    }
   ],
   "source": [
    "ob_df.count()"
   ]
  },
  {
   "cell_type": "code",
   "execution_count": 107,
   "metadata": {},
   "outputs": [
    {
     "data": {
      "text/plain": [
       "Buyer_OB              12\n",
       "Style_OB              12\n",
       "Order_number_OB        0\n",
       "path                  12\n",
       "file                  12\n",
       "Process_OB            12\n",
       "Machine_type_OB        0\n",
       "Individual_SMV_OB      0\n",
       "Standard_target_OB     0\n",
       "Operator_OB           12\n",
       "Helper_OB             12\n",
       "Actual_target_OB       0\n",
       "dtype: int64"
      ]
     },
     "execution_count": 107,
     "metadata": {},
     "output_type": "execute_result"
    }
   ],
   "source": [
    "ob_df[pd.isnull(ob_df.Individual_SMV_OB)].count()"
   ]
  },
  {
   "cell_type": "code",
   "execution_count": null,
   "metadata": {},
   "outputs": [],
   "source": []
  },
  {
   "cell_type": "code",
   "execution_count": null,
   "metadata": {},
   "outputs": [],
   "source": []
  },
  {
   "cell_type": "code",
   "execution_count": 108,
   "metadata": {},
   "outputs": [
    {
     "data": {
      "text/plain": [
       "array(['Front Part', 'Back Part', 'Assembling', 'Back part', 'Front part',\n",
       "       'Back Rise', 'Assembly'], dtype=object)"
      ]
     },
     "execution_count": 108,
     "metadata": {},
     "output_type": "execute_result"
    }
   ],
   "source": [
    "ob_df[pd.isnull(ob_df.Individual_SMV_OB)]['Process_OB'].unique()"
   ]
  },
  {
   "cell_type": "code",
   "execution_count": 109,
   "metadata": {},
   "outputs": [],
   "source": [
    "ob_df= ob_df[pd.notnull(ob_df.Individual_SMV_OB)]"
   ]
  },
  {
   "cell_type": "code",
   "execution_count": 110,
   "metadata": {},
   "outputs": [
    {
     "data": {
      "text/plain": [
       "Buyer_OB              363\n",
       "Style_OB              363\n",
       "Order_number_OB         0\n",
       "path                  363\n",
       "file                  363\n",
       "Process_OB            363\n",
       "Machine_type_OB       363\n",
       "Individual_SMV_OB     363\n",
       "Standard_target_OB    363\n",
       "Operator_OB           363\n",
       "Helper_OB             363\n",
       "Actual_target_OB      363\n",
       "dtype: int64"
      ]
     },
     "execution_count": 110,
     "metadata": {},
     "output_type": "execute_result"
    }
   ],
   "source": [
    "ob_df.count()"
   ]
  },
  {
   "cell_type": "code",
   "execution_count": null,
   "metadata": {},
   "outputs": [],
   "source": []
  },
  {
   "cell_type": "code",
   "execution_count": 111,
   "metadata": {},
   "outputs": [
    {
     "data": {
      "text/plain": [
       "Index(['Buyer_OB', 'Style_OB', 'Order_number_OB', 'path', 'file', 'Process_OB',\n",
       "       'Machine_type_OB', 'Individual_SMV_OB', 'Standard_target_OB',\n",
       "       'Operator_OB', 'Helper_OB', 'Actual_target_OB'],\n",
       "      dtype='object')"
      ]
     },
     "execution_count": 111,
     "metadata": {},
     "output_type": "execute_result"
    }
   ],
   "source": [
    "ob_df.columns"
   ]
  },
  {
   "cell_type": "code",
   "execution_count": 112,
   "metadata": {},
   "outputs": [
    {
     "data": {
      "text/plain": [
       "17"
      ]
     },
     "execution_count": 112,
     "metadata": {},
     "output_type": "execute_result"
    }
   ],
   "source": [
    "len(ob_df.groupby(by=[\"Buyer_OB\",'Style_OB','path', 'file']))"
   ]
  },
  {
   "cell_type": "code",
   "execution_count": 113,
   "metadata": {},
   "outputs": [
    {
     "data": {
      "text/plain": [
       "17"
      ]
     },
     "execution_count": 113,
     "metadata": {},
     "output_type": "execute_result"
    }
   ],
   "source": [
    "len(ob_df.groupby(by=['Style_OB','path', 'file']))"
   ]
  },
  {
   "cell_type": "code",
   "execution_count": 114,
   "metadata": {},
   "outputs": [
    {
     "name": "stderr",
     "output_type": "stream",
     "text": [
      "  0%|                                                                                           | 0/17 [00:00<?, ?it/s]C:\\ProgramData\\Anaconda3\\lib\\site-packages\\ipykernel_launcher.py:2: DeprecationWarning: \n",
      ".ix is deprecated. Please use\n",
      ".loc for label based indexing or\n",
      ".iloc for positional indexing\n",
      "\n",
      "See the documentation here:\n",
      "http://pandas.pydata.org/pandas-docs/stable/indexing.html#ix-indexer-is-deprecated\n",
      "  \n",
      "C:\\ProgramData\\Anaconda3\\lib\\site-packages\\ipykernel_launcher.py:3: DeprecationWarning: \n",
      ".ix is deprecated. Please use\n",
      ".loc for label based indexing or\n",
      ".iloc for positional indexing\n",
      "\n",
      "See the documentation here:\n",
      "http://pandas.pydata.org/pandas-docs/stable/indexing.html#ix-indexer-is-deprecated\n",
      "  This is separate from the ipykernel package so we can avoid doing imports until\n",
      "100%|█████████████████████████████████████████████████████████████████████████████████| 17/17 [00:00<00:00, 158.97it/s]\n"
     ]
    }
   ],
   "source": [
    "for key, data in tqdm(ob_df.groupby(by=['Style_OB','path', 'file'])):\n",
    "    ob_df.ix[data.index,\"Total_SMV\"] = data.Individual_SMV_OB.sum()\n",
    "    ob_df.ix[data.index,\"operation_id\"] = pd.Series([i for i in range(len(data)+1) if i != 0],data.index)"
   ]
  },
  {
   "cell_type": "code",
   "execution_count": 115,
   "metadata": {},
   "outputs": [
    {
     "data": {
      "text/html": [
       "<div>\n",
       "<style scoped>\n",
       "    .dataframe tbody tr th:only-of-type {\n",
       "        vertical-align: middle;\n",
       "    }\n",
       "\n",
       "    .dataframe tbody tr th {\n",
       "        vertical-align: top;\n",
       "    }\n",
       "\n",
       "    .dataframe thead th {\n",
       "        text-align: right;\n",
       "    }\n",
       "</style>\n",
       "<table border=\"1\" class=\"dataframe\">\n",
       "  <thead>\n",
       "    <tr style=\"text-align: right;\">\n",
       "      <th></th>\n",
       "      <th>Buyer_OB</th>\n",
       "      <th>Style_OB</th>\n",
       "      <th>Order_number_OB</th>\n",
       "      <th>path</th>\n",
       "      <th>file</th>\n",
       "      <th>Process_OB</th>\n",
       "      <th>Machine_type_OB</th>\n",
       "      <th>Individual_SMV_OB</th>\n",
       "      <th>Standard_target_OB</th>\n",
       "      <th>Operator_OB</th>\n",
       "      <th>Helper_OB</th>\n",
       "      <th>Actual_target_OB</th>\n",
       "      <th>Total_SMV</th>\n",
       "      <th>operation_id</th>\n",
       "    </tr>\n",
       "  </thead>\n",
       "  <tbody>\n",
       "  </tbody>\n",
       "</table>\n",
       "</div>"
      ],
      "text/plain": [
       "Empty DataFrame\n",
       "Columns: [Buyer_OB, Style_OB, Order_number_OB, path, file, Process_OB, Machine_type_OB, Individual_SMV_OB, Standard_target_OB, Operator_OB, Helper_OB, Actual_target_OB, Total_SMV, operation_id]\n",
       "Index: []"
      ]
     },
     "execution_count": 115,
     "metadata": {},
     "output_type": "execute_result"
    }
   ],
   "source": [
    "ob_df[pd.isnull(ob_df[\"operation_id\"])]"
   ]
  },
  {
   "cell_type": "code",
   "execution_count": 116,
   "metadata": {},
   "outputs": [],
   "source": [
    "ob_df[\"factory_code\"] = \"1301\""
   ]
  },
  {
   "cell_type": "code",
   "execution_count": null,
   "metadata": {},
   "outputs": [],
   "source": []
  },
  {
   "cell_type": "code",
   "execution_count": null,
   "metadata": {},
   "outputs": [],
   "source": []
  },
  {
   "cell_type": "code",
   "execution_count": 117,
   "metadata": {},
   "outputs": [
    {
     "data": {
      "text/plain": [
       "Index(['Buyer_OB', 'Style_OB', 'Order_number_OB', 'path', 'file', 'Process_OB',\n",
       "       'Machine_type_OB', 'Individual_SMV_OB', 'Standard_target_OB',\n",
       "       'Operator_OB', 'Helper_OB', 'Actual_target_OB', 'Total_SMV',\n",
       "       'operation_id', 'factory_code'],\n",
       "      dtype='object')"
      ]
     },
     "execution_count": 117,
     "metadata": {},
     "output_type": "execute_result"
    }
   ],
   "source": [
    "ob_df.columns"
   ]
  },
  {
   "cell_type": "code",
   "execution_count": 118,
   "metadata": {},
   "outputs": [],
   "source": [
    "ob_df.columns = [col.lower().replace(\" \",\"_\") for col in ob_df.columns if pd.notnull(col)]"
   ]
  },
  {
   "cell_type": "code",
   "execution_count": 119,
   "metadata": {},
   "outputs": [
    {
     "data": {
      "text/html": [
       "<div>\n",
       "<style scoped>\n",
       "    .dataframe tbody tr th:only-of-type {\n",
       "        vertical-align: middle;\n",
       "    }\n",
       "\n",
       "    .dataframe tbody tr th {\n",
       "        vertical-align: top;\n",
       "    }\n",
       "\n",
       "    .dataframe thead th {\n",
       "        text-align: right;\n",
       "    }\n",
       "</style>\n",
       "<table border=\"1\" class=\"dataframe\">\n",
       "  <thead>\n",
       "    <tr style=\"text-align: right;\">\n",
       "      <th></th>\n",
       "      <th>buyer_ob</th>\n",
       "      <th>style_ob</th>\n",
       "      <th>order_number_ob</th>\n",
       "      <th>path</th>\n",
       "      <th>file</th>\n",
       "      <th>process_ob</th>\n",
       "      <th>machine_type_ob</th>\n",
       "      <th>individual_smv_ob</th>\n",
       "      <th>standard_target_ob</th>\n",
       "      <th>operator_ob</th>\n",
       "      <th>helper_ob</th>\n",
       "      <th>actual_target_ob</th>\n",
       "      <th>total_smv</th>\n",
       "      <th>operation_id</th>\n",
       "      <th>factory_code</th>\n",
       "    </tr>\n",
       "  </thead>\n",
       "  <tbody>\n",
       "    <tr>\n",
       "      <th>0</th>\n",
       "      <td>Guess</td>\n",
       "      <td>i01g07</td>\n",
       "      <td>NaN</td>\n",
       "      <td>..\\Raw\\20200115</td>\n",
       "      <td>GUESS-I01G07 - Kids Shorts with waistbelt &amp; bo...</td>\n",
       "      <td>Attach Front Rise</td>\n",
       "      <td>O/L</td>\n",
       "      <td>0.189</td>\n",
       "      <td>317.46</td>\n",
       "      <td>1.0</td>\n",
       "      <td>0.0</td>\n",
       "      <td>317.46</td>\n",
       "      <td>4.491402</td>\n",
       "      <td>1.0</td>\n",
       "      <td>1301</td>\n",
       "    </tr>\n",
       "    <tr>\n",
       "      <th>1</th>\n",
       "      <td>Guess</td>\n",
       "      <td>i01g07</td>\n",
       "      <td>NaN</td>\n",
       "      <td>..\\Raw\\20200115</td>\n",
       "      <td>GUESS-I01G07 - Kids Shorts with waistbelt &amp; bo...</td>\n",
       "      <td>Attach Back Rise</td>\n",
       "      <td>O/L</td>\n",
       "      <td>0.196993</td>\n",
       "      <td>304.58</td>\n",
       "      <td>1.0</td>\n",
       "      <td>0.0</td>\n",
       "      <td>304.58</td>\n",
       "      <td>4.491402</td>\n",
       "      <td>2.0</td>\n",
       "      <td>1301</td>\n",
       "    </tr>\n",
       "    <tr>\n",
       "      <th>2</th>\n",
       "      <td>Guess</td>\n",
       "      <td>i01g07</td>\n",
       "      <td>NaN</td>\n",
       "      <td>..\\Raw\\20200115</td>\n",
       "      <td>GUESS-I01G07 - Kids Shorts with waistbelt &amp; bo...</td>\n",
       "      <td>Set Front &amp; Back Part, Together</td>\n",
       "      <td>HEL</td>\n",
       "      <td>0.147</td>\n",
       "      <td>408.163</td>\n",
       "      <td>0.0</td>\n",
       "      <td>1.0</td>\n",
       "      <td>408.163</td>\n",
       "      <td>4.491402</td>\n",
       "      <td>3.0</td>\n",
       "      <td>1301</td>\n",
       "    </tr>\n",
       "    <tr>\n",
       "      <th>3</th>\n",
       "      <td>Guess</td>\n",
       "      <td>i01g07</td>\n",
       "      <td>NaN</td>\n",
       "      <td>..\\Raw\\20200115</td>\n",
       "      <td>GUESS-I01G07 - Kids Shorts with waistbelt &amp; bo...</td>\n",
       "      <td>Seam Side - Bottom, Solid, No Label, Both Side...</td>\n",
       "      <td>O/L</td>\n",
       "      <td>0.319729</td>\n",
       "      <td>187.659</td>\n",
       "      <td>2.0</td>\n",
       "      <td>0.0</td>\n",
       "      <td>375.318</td>\n",
       "      <td>4.491402</td>\n",
       "      <td>4.0</td>\n",
       "      <td>1301</td>\n",
       "    </tr>\n",
       "    <tr>\n",
       "      <th>4</th>\n",
       "      <td>Guess</td>\n",
       "      <td>i01g07</td>\n",
       "      <td>NaN</td>\n",
       "      <td>..\\Raw\\20200115</td>\n",
       "      <td>GUESS-I01G07 - Kids Shorts with waistbelt &amp; bo...</td>\n",
       "      <td>Inseam - Auto Trim</td>\n",
       "      <td>O/L</td>\n",
       "      <td>0.216118</td>\n",
       "      <td>277.627</td>\n",
       "      <td>2.0</td>\n",
       "      <td>0.0</td>\n",
       "      <td>555.253</td>\n",
       "      <td>4.491402</td>\n",
       "      <td>5.0</td>\n",
       "      <td>1301</td>\n",
       "    </tr>\n",
       "  </tbody>\n",
       "</table>\n",
       "</div>"
      ],
      "text/plain": [
       "  buyer_ob style_ob order_number_ob             path  \\\n",
       "0    Guess   i01g07             NaN  ..\\Raw\\20200115   \n",
       "1    Guess   i01g07             NaN  ..\\Raw\\20200115   \n",
       "2    Guess   i01g07             NaN  ..\\Raw\\20200115   \n",
       "3    Guess   i01g07             NaN  ..\\Raw\\20200115   \n",
       "4    Guess   i01g07             NaN  ..\\Raw\\20200115   \n",
       "\n",
       "                                                file  \\\n",
       "0  GUESS-I01G07 - Kids Shorts with waistbelt & bo...   \n",
       "1  GUESS-I01G07 - Kids Shorts with waistbelt & bo...   \n",
       "2  GUESS-I01G07 - Kids Shorts with waistbelt & bo...   \n",
       "3  GUESS-I01G07 - Kids Shorts with waistbelt & bo...   \n",
       "4  GUESS-I01G07 - Kids Shorts with waistbelt & bo...   \n",
       "\n",
       "                                          process_ob machine_type_ob  \\\n",
       "0                                  Attach Front Rise             O/L   \n",
       "1                                   Attach Back Rise             O/L   \n",
       "2                    Set Front & Back Part, Together             HEL   \n",
       "3  Seam Side - Bottom, Solid, No Label, Both Side...             O/L   \n",
       "4                                 Inseam - Auto Trim             O/L   \n",
       "\n",
       "  individual_smv_ob standard_target_ob  operator_ob  helper_ob  \\\n",
       "0             0.189             317.46          1.0        0.0   \n",
       "1          0.196993             304.58          1.0        0.0   \n",
       "2             0.147            408.163          0.0        1.0   \n",
       "3          0.319729            187.659          2.0        0.0   \n",
       "4          0.216118            277.627          2.0        0.0   \n",
       "\n",
       "  actual_target_ob  total_smv  operation_id factory_code  \n",
       "0           317.46   4.491402           1.0         1301  \n",
       "1           304.58   4.491402           2.0         1301  \n",
       "2          408.163   4.491402           3.0         1301  \n",
       "3          375.318   4.491402           4.0         1301  \n",
       "4          555.253   4.491402           5.0         1301  "
      ]
     },
     "execution_count": 119,
     "metadata": {},
     "output_type": "execute_result"
    }
   ],
   "source": [
    "ob_df.head(5)"
   ]
  },
  {
   "cell_type": "code",
   "execution_count": null,
   "metadata": {},
   "outputs": [],
   "source": []
  },
  {
   "cell_type": "markdown",
   "metadata": {},
   "source": [
    "## We wilL now deal with processes which has more than one manpower. "
   ]
  },
  {
   "cell_type": "code",
   "execution_count": 120,
   "metadata": {},
   "outputs": [
    {
     "data": {
      "text/html": [
       "<div>\n",
       "<style scoped>\n",
       "    .dataframe tbody tr th:only-of-type {\n",
       "        vertical-align: middle;\n",
       "    }\n",
       "\n",
       "    .dataframe tbody tr th {\n",
       "        vertical-align: top;\n",
       "    }\n",
       "\n",
       "    .dataframe thead th {\n",
       "        text-align: right;\n",
       "    }\n",
       "</style>\n",
       "<table border=\"1\" class=\"dataframe\">\n",
       "  <thead>\n",
       "    <tr style=\"text-align: right;\">\n",
       "      <th></th>\n",
       "      <th>buyer_ob</th>\n",
       "      <th>style_ob</th>\n",
       "      <th>order_number_ob</th>\n",
       "      <th>path</th>\n",
       "      <th>file</th>\n",
       "      <th>process_ob</th>\n",
       "      <th>machine_type_ob</th>\n",
       "      <th>individual_smv_ob</th>\n",
       "      <th>standard_target_ob</th>\n",
       "      <th>operator_ob</th>\n",
       "      <th>helper_ob</th>\n",
       "      <th>actual_target_ob</th>\n",
       "      <th>total_smv</th>\n",
       "      <th>operation_id</th>\n",
       "      <th>factory_code</th>\n",
       "    </tr>\n",
       "  </thead>\n",
       "  <tbody>\n",
       "    <tr>\n",
       "      <th>0</th>\n",
       "      <td>Guess</td>\n",
       "      <td>i01g07</td>\n",
       "      <td>NaN</td>\n",
       "      <td>..\\Raw\\20200115</td>\n",
       "      <td>GUESS-I01G07 - Kids Shorts with waistbelt &amp; bo...</td>\n",
       "      <td>Attach Front Rise</td>\n",
       "      <td>O/L</td>\n",
       "      <td>0.189</td>\n",
       "      <td>317.46</td>\n",
       "      <td>1.0</td>\n",
       "      <td>0.0</td>\n",
       "      <td>317.46</td>\n",
       "      <td>4.491402</td>\n",
       "      <td>1.0</td>\n",
       "      <td>1301</td>\n",
       "    </tr>\n",
       "    <tr>\n",
       "      <th>1</th>\n",
       "      <td>Guess</td>\n",
       "      <td>i01g07</td>\n",
       "      <td>NaN</td>\n",
       "      <td>..\\Raw\\20200115</td>\n",
       "      <td>GUESS-I01G07 - Kids Shorts with waistbelt &amp; bo...</td>\n",
       "      <td>Attach Back Rise</td>\n",
       "      <td>O/L</td>\n",
       "      <td>0.196993</td>\n",
       "      <td>304.58</td>\n",
       "      <td>1.0</td>\n",
       "      <td>0.0</td>\n",
       "      <td>304.58</td>\n",
       "      <td>4.491402</td>\n",
       "      <td>2.0</td>\n",
       "      <td>1301</td>\n",
       "    </tr>\n",
       "    <tr>\n",
       "      <th>2</th>\n",
       "      <td>Guess</td>\n",
       "      <td>i01g07</td>\n",
       "      <td>NaN</td>\n",
       "      <td>..\\Raw\\20200115</td>\n",
       "      <td>GUESS-I01G07 - Kids Shorts with waistbelt &amp; bo...</td>\n",
       "      <td>Set Front &amp; Back Part, Together</td>\n",
       "      <td>HEL</td>\n",
       "      <td>0.147</td>\n",
       "      <td>408.163</td>\n",
       "      <td>0.0</td>\n",
       "      <td>1.0</td>\n",
       "      <td>408.163</td>\n",
       "      <td>4.491402</td>\n",
       "      <td>3.0</td>\n",
       "      <td>1301</td>\n",
       "    </tr>\n",
       "    <tr>\n",
       "      <th>3</th>\n",
       "      <td>Guess</td>\n",
       "      <td>i01g07</td>\n",
       "      <td>NaN</td>\n",
       "      <td>..\\Raw\\20200115</td>\n",
       "      <td>GUESS-I01G07 - Kids Shorts with waistbelt &amp; bo...</td>\n",
       "      <td>Seam Side - Bottom, Solid, No Label, Both Side...</td>\n",
       "      <td>O/L</td>\n",
       "      <td>0.319729</td>\n",
       "      <td>187.659</td>\n",
       "      <td>2.0</td>\n",
       "      <td>0.0</td>\n",
       "      <td>375.318</td>\n",
       "      <td>4.491402</td>\n",
       "      <td>4.0</td>\n",
       "      <td>1301</td>\n",
       "    </tr>\n",
       "    <tr>\n",
       "      <th>4</th>\n",
       "      <td>Guess</td>\n",
       "      <td>i01g07</td>\n",
       "      <td>NaN</td>\n",
       "      <td>..\\Raw\\20200115</td>\n",
       "      <td>GUESS-I01G07 - Kids Shorts with waistbelt &amp; bo...</td>\n",
       "      <td>Inseam - Auto Trim</td>\n",
       "      <td>O/L</td>\n",
       "      <td>0.216118</td>\n",
       "      <td>277.627</td>\n",
       "      <td>2.0</td>\n",
       "      <td>0.0</td>\n",
       "      <td>555.253</td>\n",
       "      <td>4.491402</td>\n",
       "      <td>5.0</td>\n",
       "      <td>1301</td>\n",
       "    </tr>\n",
       "  </tbody>\n",
       "</table>\n",
       "</div>"
      ],
      "text/plain": [
       "  buyer_ob style_ob order_number_ob             path  \\\n",
       "0    Guess   i01g07             NaN  ..\\Raw\\20200115   \n",
       "1    Guess   i01g07             NaN  ..\\Raw\\20200115   \n",
       "2    Guess   i01g07             NaN  ..\\Raw\\20200115   \n",
       "3    Guess   i01g07             NaN  ..\\Raw\\20200115   \n",
       "4    Guess   i01g07             NaN  ..\\Raw\\20200115   \n",
       "\n",
       "                                                file  \\\n",
       "0  GUESS-I01G07 - Kids Shorts with waistbelt & bo...   \n",
       "1  GUESS-I01G07 - Kids Shorts with waistbelt & bo...   \n",
       "2  GUESS-I01G07 - Kids Shorts with waistbelt & bo...   \n",
       "3  GUESS-I01G07 - Kids Shorts with waistbelt & bo...   \n",
       "4  GUESS-I01G07 - Kids Shorts with waistbelt & bo...   \n",
       "\n",
       "                                          process_ob machine_type_ob  \\\n",
       "0                                  Attach Front Rise             O/L   \n",
       "1                                   Attach Back Rise             O/L   \n",
       "2                    Set Front & Back Part, Together             HEL   \n",
       "3  Seam Side - Bottom, Solid, No Label, Both Side...             O/L   \n",
       "4                                 Inseam - Auto Trim             O/L   \n",
       "\n",
       "  individual_smv_ob standard_target_ob  operator_ob  helper_ob  \\\n",
       "0             0.189             317.46          1.0        0.0   \n",
       "1          0.196993             304.58          1.0        0.0   \n",
       "2             0.147            408.163          0.0        1.0   \n",
       "3          0.319729            187.659          2.0        0.0   \n",
       "4          0.216118            277.627          2.0        0.0   \n",
       "\n",
       "  actual_target_ob  total_smv  operation_id factory_code  \n",
       "0           317.46   4.491402           1.0         1301  \n",
       "1           304.58   4.491402           2.0         1301  \n",
       "2          408.163   4.491402           3.0         1301  \n",
       "3          375.318   4.491402           4.0         1301  \n",
       "4          555.253   4.491402           5.0         1301  "
      ]
     },
     "execution_count": 120,
     "metadata": {},
     "output_type": "execute_result"
    }
   ],
   "source": [
    "ob_df.head()"
   ]
  },
  {
   "cell_type": "code",
   "execution_count": 121,
   "metadata": {},
   "outputs": [],
   "source": [
    "bkupDF = ob_df.copy()"
   ]
  },
  {
   "cell_type": "code",
   "execution_count": 122,
   "metadata": {},
   "outputs": [
    {
     "data": {
      "text/plain": [
       "array([1.  , 0.  , 2.  , 1.3 , 0.7 , 1.4 , 0.6 , 1.54, 0.46, 0.4 , 0.5 ,\n",
       "       1.5 , 3.  , 4.  , 1.6 , 1.2 , 0.8 , 1.8 ])"
      ]
     },
     "execution_count": 122,
     "metadata": {},
     "output_type": "execute_result"
    }
   ],
   "source": [
    "bkupDF['operator_ob'].unique()"
   ]
  },
  {
   "cell_type": "code",
   "execution_count": 123,
   "metadata": {},
   "outputs": [
    {
     "data": {
      "text/plain": [
       "array([0. , 1. , 2. , 0.6, 0.5, 1.2, 0.8, 0.4, 1.5])"
      ]
     },
     "execution_count": 123,
     "metadata": {},
     "output_type": "execute_result"
    }
   ],
   "source": [
    "bkupDF['helper_ob'].unique()"
   ]
  },
  {
   "cell_type": "markdown",
   "metadata": {},
   "source": [
    "### Check if the manpower count seems unreal "
   ]
  },
  {
   "cell_type": "code",
   "execution_count": 124,
   "metadata": {},
   "outputs": [],
   "source": [
    "#bkupDF[bkupDF.helper_ob == 6]"
   ]
  },
  {
   "cell_type": "code",
   "execution_count": 125,
   "metadata": {},
   "outputs": [],
   "source": [
    "bkupDF['allocated_mp'] = pd.Series([np.ceil(np.sum([i,j])) for i,j in zip(bkupDF['operator_ob'],bkupDF['helper_ob'])],index=bkupDF.index)"
   ]
  },
  {
   "cell_type": "code",
   "execution_count": 126,
   "metadata": {},
   "outputs": [
    {
     "data": {
      "text/plain": [
       "array([1., 2., 3., 4.])"
      ]
     },
     "execution_count": 126,
     "metadata": {},
     "output_type": "execute_result"
    }
   ],
   "source": [
    "bkupDF['allocated_mp'].unique()"
   ]
  },
  {
   "cell_type": "code",
   "execution_count": 127,
   "metadata": {},
   "outputs": [
    {
     "data": {
      "text/plain": [
       "0"
      ]
     },
     "execution_count": 127,
     "metadata": {},
     "output_type": "execute_result"
    }
   ],
   "source": [
    "len(bkupDF[bkupDF.allocated_mp == 0])"
   ]
  },
  {
   "cell_type": "code",
   "execution_count": 128,
   "metadata": {},
   "outputs": [],
   "source": [
    "bkupDF.drop(bkupDF[bkupDF.allocated_mp == 0].index,inplace=True)\n",
    "bkupDF.reset_index(drop=True,inplace=True)"
   ]
  },
  {
   "cell_type": "code",
   "execution_count": 129,
   "metadata": {},
   "outputs": [
    {
     "data": {
      "text/html": [
       "<div>\n",
       "<style scoped>\n",
       "    .dataframe tbody tr th:only-of-type {\n",
       "        vertical-align: middle;\n",
       "    }\n",
       "\n",
       "    .dataframe tbody tr th {\n",
       "        vertical-align: top;\n",
       "    }\n",
       "\n",
       "    .dataframe thead th {\n",
       "        text-align: right;\n",
       "    }\n",
       "</style>\n",
       "<table border=\"1\" class=\"dataframe\">\n",
       "  <thead>\n",
       "    <tr style=\"text-align: right;\">\n",
       "      <th></th>\n",
       "      <th>buyer_ob</th>\n",
       "      <th>style_ob</th>\n",
       "      <th>order_number_ob</th>\n",
       "      <th>path</th>\n",
       "      <th>file</th>\n",
       "      <th>process_ob</th>\n",
       "      <th>machine_type_ob</th>\n",
       "      <th>individual_smv_ob</th>\n",
       "      <th>standard_target_ob</th>\n",
       "      <th>operator_ob</th>\n",
       "      <th>helper_ob</th>\n",
       "      <th>actual_target_ob</th>\n",
       "      <th>total_smv</th>\n",
       "      <th>operation_id</th>\n",
       "      <th>factory_code</th>\n",
       "      <th>allocated_mp</th>\n",
       "    </tr>\n",
       "  </thead>\n",
       "  <tbody>\n",
       "    <tr>\n",
       "      <th>0</th>\n",
       "      <td>Guess</td>\n",
       "      <td>i01g07</td>\n",
       "      <td>NaN</td>\n",
       "      <td>..\\Raw\\20200115</td>\n",
       "      <td>GUESS-I01G07 - Kids Shorts with waistbelt &amp; bo...</td>\n",
       "      <td>Attach Front Rise</td>\n",
       "      <td>O/L</td>\n",
       "      <td>0.189</td>\n",
       "      <td>317.46</td>\n",
       "      <td>1.0</td>\n",
       "      <td>0.0</td>\n",
       "      <td>317.46</td>\n",
       "      <td>4.491402</td>\n",
       "      <td>1.0</td>\n",
       "      <td>1301</td>\n",
       "      <td>1.0</td>\n",
       "    </tr>\n",
       "    <tr>\n",
       "      <th>1</th>\n",
       "      <td>Guess</td>\n",
       "      <td>i01g07</td>\n",
       "      <td>NaN</td>\n",
       "      <td>..\\Raw\\20200115</td>\n",
       "      <td>GUESS-I01G07 - Kids Shorts with waistbelt &amp; bo...</td>\n",
       "      <td>Attach Back Rise</td>\n",
       "      <td>O/L</td>\n",
       "      <td>0.196993</td>\n",
       "      <td>304.58</td>\n",
       "      <td>1.0</td>\n",
       "      <td>0.0</td>\n",
       "      <td>304.58</td>\n",
       "      <td>4.491402</td>\n",
       "      <td>2.0</td>\n",
       "      <td>1301</td>\n",
       "      <td>1.0</td>\n",
       "    </tr>\n",
       "    <tr>\n",
       "      <th>2</th>\n",
       "      <td>Guess</td>\n",
       "      <td>i01g07</td>\n",
       "      <td>NaN</td>\n",
       "      <td>..\\Raw\\20200115</td>\n",
       "      <td>GUESS-I01G07 - Kids Shorts with waistbelt &amp; bo...</td>\n",
       "      <td>Set Front &amp; Back Part, Together</td>\n",
       "      <td>HEL</td>\n",
       "      <td>0.147</td>\n",
       "      <td>408.163</td>\n",
       "      <td>0.0</td>\n",
       "      <td>1.0</td>\n",
       "      <td>408.163</td>\n",
       "      <td>4.491402</td>\n",
       "      <td>3.0</td>\n",
       "      <td>1301</td>\n",
       "      <td>1.0</td>\n",
       "    </tr>\n",
       "    <tr>\n",
       "      <th>3</th>\n",
       "      <td>Guess</td>\n",
       "      <td>i01g07</td>\n",
       "      <td>NaN</td>\n",
       "      <td>..\\Raw\\20200115</td>\n",
       "      <td>GUESS-I01G07 - Kids Shorts with waistbelt &amp; bo...</td>\n",
       "      <td>Seam Side - Bottom, Solid, No Label, Both Side...</td>\n",
       "      <td>O/L</td>\n",
       "      <td>0.319729</td>\n",
       "      <td>187.659</td>\n",
       "      <td>2.0</td>\n",
       "      <td>0.0</td>\n",
       "      <td>375.318</td>\n",
       "      <td>4.491402</td>\n",
       "      <td>4.0</td>\n",
       "      <td>1301</td>\n",
       "      <td>2.0</td>\n",
       "    </tr>\n",
       "    <tr>\n",
       "      <th>4</th>\n",
       "      <td>Guess</td>\n",
       "      <td>i01g07</td>\n",
       "      <td>NaN</td>\n",
       "      <td>..\\Raw\\20200115</td>\n",
       "      <td>GUESS-I01G07 - Kids Shorts with waistbelt &amp; bo...</td>\n",
       "      <td>Inseam - Auto Trim</td>\n",
       "      <td>O/L</td>\n",
       "      <td>0.216118</td>\n",
       "      <td>277.627</td>\n",
       "      <td>2.0</td>\n",
       "      <td>0.0</td>\n",
       "      <td>555.253</td>\n",
       "      <td>4.491402</td>\n",
       "      <td>5.0</td>\n",
       "      <td>1301</td>\n",
       "      <td>2.0</td>\n",
       "    </tr>\n",
       "  </tbody>\n",
       "</table>\n",
       "</div>"
      ],
      "text/plain": [
       "  buyer_ob style_ob order_number_ob             path  \\\n",
       "0    Guess   i01g07             NaN  ..\\Raw\\20200115   \n",
       "1    Guess   i01g07             NaN  ..\\Raw\\20200115   \n",
       "2    Guess   i01g07             NaN  ..\\Raw\\20200115   \n",
       "3    Guess   i01g07             NaN  ..\\Raw\\20200115   \n",
       "4    Guess   i01g07             NaN  ..\\Raw\\20200115   \n",
       "\n",
       "                                                file  \\\n",
       "0  GUESS-I01G07 - Kids Shorts with waistbelt & bo...   \n",
       "1  GUESS-I01G07 - Kids Shorts with waistbelt & bo...   \n",
       "2  GUESS-I01G07 - Kids Shorts with waistbelt & bo...   \n",
       "3  GUESS-I01G07 - Kids Shorts with waistbelt & bo...   \n",
       "4  GUESS-I01G07 - Kids Shorts with waistbelt & bo...   \n",
       "\n",
       "                                          process_ob machine_type_ob  \\\n",
       "0                                  Attach Front Rise             O/L   \n",
       "1                                   Attach Back Rise             O/L   \n",
       "2                    Set Front & Back Part, Together             HEL   \n",
       "3  Seam Side - Bottom, Solid, No Label, Both Side...             O/L   \n",
       "4                                 Inseam - Auto Trim             O/L   \n",
       "\n",
       "  individual_smv_ob standard_target_ob  operator_ob  helper_ob  \\\n",
       "0             0.189             317.46          1.0        0.0   \n",
       "1          0.196993             304.58          1.0        0.0   \n",
       "2             0.147            408.163          0.0        1.0   \n",
       "3          0.319729            187.659          2.0        0.0   \n",
       "4          0.216118            277.627          2.0        0.0   \n",
       "\n",
       "  actual_target_ob  total_smv  operation_id factory_code  allocated_mp  \n",
       "0           317.46   4.491402           1.0         1301           1.0  \n",
       "1           304.58   4.491402           2.0         1301           1.0  \n",
       "2          408.163   4.491402           3.0         1301           1.0  \n",
       "3          375.318   4.491402           4.0         1301           2.0  \n",
       "4          555.253   4.491402           5.0         1301           2.0  "
      ]
     },
     "execution_count": 129,
     "metadata": {},
     "output_type": "execute_result"
    }
   ],
   "source": [
    "bkupDF.head()"
   ]
  },
  {
   "cell_type": "code",
   "execution_count": 130,
   "metadata": {},
   "outputs": [
    {
     "name": "stderr",
     "output_type": "stream",
     "text": [
      "  0%|                                                                                          | 0/363 [00:00<?, ?it/s]C:\\ProgramData\\Anaconda3\\lib\\site-packages\\ipykernel_launcher.py:5: DeprecationWarning: \n",
      ".ix is deprecated. Please use\n",
      ".loc for label based indexing or\n",
      ".iloc for positional indexing\n",
      "\n",
      "See the documentation here:\n",
      "http://pandas.pydata.org/pandas-docs/stable/indexing.html#ix-indexer-is-deprecated\n",
      "  \"\"\"\n",
      "C:\\ProgramData\\Anaconda3\\lib\\site-packages\\ipykernel_launcher.py:11: DeprecationWarning: \n",
      ".ix is deprecated. Please use\n",
      ".loc for label based indexing or\n",
      ".iloc for positional indexing\n",
      "\n",
      "See the documentation here:\n",
      "http://pandas.pydata.org/pandas-docs/stable/indexing.html#ix-indexer-is-deprecated\n",
      "  # This is added back by InteractiveShellApp.init_path()\n",
      "C:\\ProgramData\\Anaconda3\\lib\\site-packages\\ipykernel_launcher.py:12: DeprecationWarning: \n",
      ".ix is deprecated. Please use\n",
      ".loc for label based indexing or\n",
      ".iloc for positional indexing\n",
      "\n",
      "See the documentation here:\n",
      "http://pandas.pydata.org/pandas-docs/stable/indexing.html#ix-indexer-is-deprecated\n",
      "  if sys.path[0] == '':\n",
      "C:\\ProgramData\\Anaconda3\\lib\\site-packages\\ipykernel_launcher.py:12: SettingWithCopyWarning: \n",
      "A value is trying to be set on a copy of a slice from a DataFrame\n",
      "\n",
      "See the caveats in the documentation: http://pandas.pydata.org/pandas-docs/stable/indexing.html#indexing-view-versus-copy\n",
      "  if sys.path[0] == '':\n",
      "  1%|▍                                                                                 | 2/363 [00:00<00:29, 12.06it/s]C:\\ProgramData\\Anaconda3\\lib\\site-packages\\ipykernel_launcher.py:6: DeprecationWarning: \n",
      ".ix is deprecated. Please use\n",
      ".loc for label based indexing or\n",
      ".iloc for positional indexing\n",
      "\n",
      "See the documentation here:\n",
      "http://pandas.pydata.org/pandas-docs/stable/indexing.html#ix-indexer-is-deprecated\n",
      "  \n",
      "C:\\ProgramData\\Anaconda3\\lib\\site-packages\\ipykernel_launcher.py:7: DeprecationWarning: \n",
      ".ix is deprecated. Please use\n",
      ".loc for label based indexing or\n",
      ".iloc for positional indexing\n",
      "\n",
      "See the documentation here:\n",
      "http://pandas.pydata.org/pandas-docs/stable/indexing.html#ix-indexer-is-deprecated\n",
      "  import sys\n",
      "C:\\ProgramData\\Anaconda3\\lib\\site-packages\\ipykernel_launcher.py:8: DeprecationWarning: \n",
      ".ix is deprecated. Please use\n",
      ".loc for label based indexing or\n",
      ".iloc for positional indexing\n",
      "\n",
      "See the documentation here:\n",
      "http://pandas.pydata.org/pandas-docs/stable/indexing.html#ix-indexer-is-deprecated\n",
      "  \n",
      "C:\\ProgramData\\Anaconda3\\lib\\site-packages\\ipykernel_launcher.py:8: SettingWithCopyWarning: \n",
      "A value is trying to be set on a copy of a slice from a DataFrame\n",
      "\n",
      "See the caveats in the documentation: http://pandas.pydata.org/pandas-docs/stable/indexing.html#indexing-view-versus-copy\n",
      "  \n",
      "100%|████████████████████████████████████████████████████████████████████████████████| 363/363 [00:33<00:00,  7.79it/s]\n"
     ]
    }
   ],
   "source": [
    "letters = ['A','B','C','D','E','F','G','H',\"I\",\"J\",\"K\",\"L\"]\n",
    "DF = pd.DataFrame(columns=bkupDF.columns)\n",
    "DF['op_no_ipa'] = np.nan\n",
    "for row in tqdm(bkupDF.index):\n",
    "    if int(bkupDF.ix[row,'allocated_mp'])>1:   \n",
    "        for i in range(int(bkupDF.ix[row,'allocated_mp'])):\n",
    "            values = bkupDF.ix[row]\n",
    "            values[\"op_no_ipa\"] = str(int(bkupDF.ix[row,\"operation_id\"]))+letters[i]\n",
    "            DF.loc[len(DF)] = values\n",
    "    else:\n",
    "        values = bkupDF.ix[row]\n",
    "        values[\"op_no_ipa\"] = str(int(bkupDF.ix[row,\"operation_id\"]))\n",
    "        DF.loc[len(DF)] = values"
   ]
  },
  {
   "cell_type": "code",
   "execution_count": null,
   "metadata": {},
   "outputs": [],
   "source": []
  },
  {
   "cell_type": "code",
   "execution_count": null,
   "metadata": {},
   "outputs": [],
   "source": []
  },
  {
   "cell_type": "code",
   "execution_count": 131,
   "metadata": {},
   "outputs": [
    {
     "data": {
      "text/html": [
       "<div>\n",
       "<style scoped>\n",
       "    .dataframe tbody tr th:only-of-type {\n",
       "        vertical-align: middle;\n",
       "    }\n",
       "\n",
       "    .dataframe tbody tr th {\n",
       "        vertical-align: top;\n",
       "    }\n",
       "\n",
       "    .dataframe thead th {\n",
       "        text-align: right;\n",
       "    }\n",
       "</style>\n",
       "<table border=\"1\" class=\"dataframe\">\n",
       "  <thead>\n",
       "    <tr style=\"text-align: right;\">\n",
       "      <th></th>\n",
       "      <th>buyer_ob</th>\n",
       "      <th>style_ob</th>\n",
       "      <th>order_number_ob</th>\n",
       "      <th>path</th>\n",
       "      <th>file</th>\n",
       "      <th>process_ob</th>\n",
       "      <th>machine_type_ob</th>\n",
       "      <th>individual_smv_ob</th>\n",
       "      <th>standard_target_ob</th>\n",
       "      <th>operator_ob</th>\n",
       "      <th>helper_ob</th>\n",
       "      <th>actual_target_ob</th>\n",
       "      <th>total_smv</th>\n",
       "      <th>operation_id</th>\n",
       "      <th>factory_code</th>\n",
       "      <th>allocated_mp</th>\n",
       "      <th>op_no_ipa</th>\n",
       "    </tr>\n",
       "  </thead>\n",
       "  <tbody>\n",
       "    <tr>\n",
       "      <th>0</th>\n",
       "      <td>Guess</td>\n",
       "      <td>i01g07</td>\n",
       "      <td>NaN</td>\n",
       "      <td>..\\Raw\\20200115</td>\n",
       "      <td>GUESS-I01G07 - Kids Shorts with waistbelt &amp; bo...</td>\n",
       "      <td>Attach Front Rise</td>\n",
       "      <td>O/L</td>\n",
       "      <td>0.189000</td>\n",
       "      <td>317.460317</td>\n",
       "      <td>1.0</td>\n",
       "      <td>0.0</td>\n",
       "      <td>317.460317</td>\n",
       "      <td>4.491402</td>\n",
       "      <td>1.0</td>\n",
       "      <td>1301</td>\n",
       "      <td>1.0</td>\n",
       "      <td>1</td>\n",
       "    </tr>\n",
       "    <tr>\n",
       "      <th>1</th>\n",
       "      <td>Guess</td>\n",
       "      <td>i01g07</td>\n",
       "      <td>NaN</td>\n",
       "      <td>..\\Raw\\20200115</td>\n",
       "      <td>GUESS-I01G07 - Kids Shorts with waistbelt &amp; bo...</td>\n",
       "      <td>Attach Back Rise</td>\n",
       "      <td>O/L</td>\n",
       "      <td>0.196993</td>\n",
       "      <td>304.579969</td>\n",
       "      <td>1.0</td>\n",
       "      <td>0.0</td>\n",
       "      <td>304.579969</td>\n",
       "      <td>4.491402</td>\n",
       "      <td>2.0</td>\n",
       "      <td>1301</td>\n",
       "      <td>1.0</td>\n",
       "      <td>2</td>\n",
       "    </tr>\n",
       "    <tr>\n",
       "      <th>2</th>\n",
       "      <td>Guess</td>\n",
       "      <td>i01g07</td>\n",
       "      <td>NaN</td>\n",
       "      <td>..\\Raw\\20200115</td>\n",
       "      <td>GUESS-I01G07 - Kids Shorts with waistbelt &amp; bo...</td>\n",
       "      <td>Set Front &amp; Back Part, Together</td>\n",
       "      <td>HEL</td>\n",
       "      <td>0.147000</td>\n",
       "      <td>408.163265</td>\n",
       "      <td>0.0</td>\n",
       "      <td>1.0</td>\n",
       "      <td>408.163265</td>\n",
       "      <td>4.491402</td>\n",
       "      <td>3.0</td>\n",
       "      <td>1301</td>\n",
       "      <td>1.0</td>\n",
       "      <td>3</td>\n",
       "    </tr>\n",
       "    <tr>\n",
       "      <th>3</th>\n",
       "      <td>Guess</td>\n",
       "      <td>i01g07</td>\n",
       "      <td>NaN</td>\n",
       "      <td>..\\Raw\\20200115</td>\n",
       "      <td>GUESS-I01G07 - Kids Shorts with waistbelt &amp; bo...</td>\n",
       "      <td>Seam Side - Bottom, Solid, No Label, Both Side...</td>\n",
       "      <td>O/L</td>\n",
       "      <td>0.319729</td>\n",
       "      <td>187.658806</td>\n",
       "      <td>2.0</td>\n",
       "      <td>0.0</td>\n",
       "      <td>375.317613</td>\n",
       "      <td>4.491402</td>\n",
       "      <td>4.0</td>\n",
       "      <td>1301</td>\n",
       "      <td>2.0</td>\n",
       "      <td>4A</td>\n",
       "    </tr>\n",
       "    <tr>\n",
       "      <th>4</th>\n",
       "      <td>Guess</td>\n",
       "      <td>i01g07</td>\n",
       "      <td>NaN</td>\n",
       "      <td>..\\Raw\\20200115</td>\n",
       "      <td>GUESS-I01G07 - Kids Shorts with waistbelt &amp; bo...</td>\n",
       "      <td>Seam Side - Bottom, Solid, No Label, Both Side...</td>\n",
       "      <td>O/L</td>\n",
       "      <td>0.319729</td>\n",
       "      <td>187.658806</td>\n",
       "      <td>2.0</td>\n",
       "      <td>0.0</td>\n",
       "      <td>375.317613</td>\n",
       "      <td>4.491402</td>\n",
       "      <td>4.0</td>\n",
       "      <td>1301</td>\n",
       "      <td>2.0</td>\n",
       "      <td>4B</td>\n",
       "    </tr>\n",
       "    <tr>\n",
       "      <th>5</th>\n",
       "      <td>Guess</td>\n",
       "      <td>i01g07</td>\n",
       "      <td>NaN</td>\n",
       "      <td>..\\Raw\\20200115</td>\n",
       "      <td>GUESS-I01G07 - Kids Shorts with waistbelt &amp; bo...</td>\n",
       "      <td>Inseam - Auto Trim</td>\n",
       "      <td>O/L</td>\n",
       "      <td>0.216118</td>\n",
       "      <td>277.626626</td>\n",
       "      <td>2.0</td>\n",
       "      <td>0.0</td>\n",
       "      <td>555.253251</td>\n",
       "      <td>4.491402</td>\n",
       "      <td>5.0</td>\n",
       "      <td>1301</td>\n",
       "      <td>2.0</td>\n",
       "      <td>5A</td>\n",
       "    </tr>\n",
       "    <tr>\n",
       "      <th>6</th>\n",
       "      <td>Guess</td>\n",
       "      <td>i01g07</td>\n",
       "      <td>NaN</td>\n",
       "      <td>..\\Raw\\20200115</td>\n",
       "      <td>GUESS-I01G07 - Kids Shorts with waistbelt &amp; bo...</td>\n",
       "      <td>Inseam - Auto Trim</td>\n",
       "      <td>O/L</td>\n",
       "      <td>0.216118</td>\n",
       "      <td>277.626626</td>\n",
       "      <td>2.0</td>\n",
       "      <td>0.0</td>\n",
       "      <td>555.253251</td>\n",
       "      <td>4.491402</td>\n",
       "      <td>5.0</td>\n",
       "      <td>1301</td>\n",
       "      <td>2.0</td>\n",
       "      <td>5B</td>\n",
       "    </tr>\n",
       "    <tr>\n",
       "      <th>7</th>\n",
       "      <td>Guess</td>\n",
       "      <td>i01g07</td>\n",
       "      <td>NaN</td>\n",
       "      <td>..\\Raw\\20200115</td>\n",
       "      <td>GUESS-I01G07 - Kids Shorts with waistbelt &amp; bo...</td>\n",
       "      <td>Tack At Crotch Point</td>\n",
       "      <td>S/N</td>\n",
       "      <td>0.099000</td>\n",
       "      <td>606.060606</td>\n",
       "      <td>1.0</td>\n",
       "      <td>0.0</td>\n",
       "      <td>606.060606</td>\n",
       "      <td>4.491402</td>\n",
       "      <td>6.0</td>\n",
       "      <td>1301</td>\n",
       "      <td>1.0</td>\n",
       "      <td>6</td>\n",
       "    </tr>\n",
       "    <tr>\n",
       "      <th>8</th>\n",
       "      <td>Guess</td>\n",
       "      <td>i01g07</td>\n",
       "      <td>NaN</td>\n",
       "      <td>..\\Raw\\20200115</td>\n",
       "      <td>GUESS-I01G07 - Kids Shorts with waistbelt &amp; bo...</td>\n",
       "      <td>Elastic M &amp; Cut + Iron</td>\n",
       "      <td>HEL</td>\n",
       "      <td>0.120000</td>\n",
       "      <td>500.000000</td>\n",
       "      <td>0.0</td>\n",
       "      <td>1.0</td>\n",
       "      <td>500.000000</td>\n",
       "      <td>4.491402</td>\n",
       "      <td>7.0</td>\n",
       "      <td>1301</td>\n",
       "      <td>1.0</td>\n",
       "      <td>7</td>\n",
       "    </tr>\n",
       "    <tr>\n",
       "      <th>9</th>\n",
       "      <td>Guess</td>\n",
       "      <td>i01g07</td>\n",
       "      <td>NaN</td>\n",
       "      <td>..\\Raw\\20200115</td>\n",
       "      <td>GUESS-I01G07 - Kids Shorts with waistbelt &amp; bo...</td>\n",
       "      <td>Make Elastic Ring</td>\n",
       "      <td>S/N</td>\n",
       "      <td>0.203000</td>\n",
       "      <td>295.566502</td>\n",
       "      <td>1.0</td>\n",
       "      <td>0.0</td>\n",
       "      <td>295.566502</td>\n",
       "      <td>4.491402</td>\n",
       "      <td>8.0</td>\n",
       "      <td>1301</td>\n",
       "      <td>1.0</td>\n",
       "      <td>8</td>\n",
       "    </tr>\n",
       "    <tr>\n",
       "      <th>10</th>\n",
       "      <td>Guess</td>\n",
       "      <td>i01g07</td>\n",
       "      <td>NaN</td>\n",
       "      <td>..\\Raw\\20200115</td>\n",
       "      <td>GUESS-I01G07 - Kids Shorts with waistbelt &amp; bo...</td>\n",
       "      <td>Mark For Elastic Attach</td>\n",
       "      <td>HEL</td>\n",
       "      <td>0.185000</td>\n",
       "      <td>324.324324</td>\n",
       "      <td>0.0</td>\n",
       "      <td>1.0</td>\n",
       "      <td>324.324324</td>\n",
       "      <td>4.491402</td>\n",
       "      <td>9.0</td>\n",
       "      <td>1301</td>\n",
       "      <td>1.0</td>\n",
       "      <td>9</td>\n",
       "    </tr>\n",
       "    <tr>\n",
       "      <th>11</th>\n",
       "      <td>Guess</td>\n",
       "      <td>i01g07</td>\n",
       "      <td>NaN</td>\n",
       "      <td>..\\Raw\\20200115</td>\n",
       "      <td>GUESS-I01G07 - Kids Shorts with waistbelt &amp; bo...</td>\n",
       "      <td>Make Waist Belt - Manual Chain Cut, Single</td>\n",
       "      <td>S/N</td>\n",
       "      <td>0.139000</td>\n",
       "      <td>431.654676</td>\n",
       "      <td>1.0</td>\n",
       "      <td>0.0</td>\n",
       "      <td>431.654676</td>\n",
       "      <td>4.491402</td>\n",
       "      <td>10.0</td>\n",
       "      <td>1301</td>\n",
       "      <td>1.0</td>\n",
       "      <td>10</td>\n",
       "    </tr>\n",
       "    <tr>\n",
       "      <th>12</th>\n",
       "      <td>Guess</td>\n",
       "      <td>i01g07</td>\n",
       "      <td>NaN</td>\n",
       "      <td>..\\Raw\\20200115</td>\n",
       "      <td>GUESS-I01G07 - Kids Shorts with waistbelt &amp; bo...</td>\n",
       "      <td>Fold &amp; Tack Waist Belt With Elastic</td>\n",
       "      <td>S/N</td>\n",
       "      <td>0.398000</td>\n",
       "      <td>150.753769</td>\n",
       "      <td>2.0</td>\n",
       "      <td>0.0</td>\n",
       "      <td>301.507538</td>\n",
       "      <td>4.491402</td>\n",
       "      <td>11.0</td>\n",
       "      <td>1301</td>\n",
       "      <td>2.0</td>\n",
       "      <td>11A</td>\n",
       "    </tr>\n",
       "    <tr>\n",
       "      <th>13</th>\n",
       "      <td>Guess</td>\n",
       "      <td>i01g07</td>\n",
       "      <td>NaN</td>\n",
       "      <td>..\\Raw\\20200115</td>\n",
       "      <td>GUESS-I01G07 - Kids Shorts with waistbelt &amp; bo...</td>\n",
       "      <td>Fold &amp; Tack Waist Belt With Elastic</td>\n",
       "      <td>S/N</td>\n",
       "      <td>0.398000</td>\n",
       "      <td>150.753769</td>\n",
       "      <td>2.0</td>\n",
       "      <td>0.0</td>\n",
       "      <td>301.507538</td>\n",
       "      <td>4.491402</td>\n",
       "      <td>11.0</td>\n",
       "      <td>1301</td>\n",
       "      <td>2.0</td>\n",
       "      <td>11B</td>\n",
       "    </tr>\n",
       "    <tr>\n",
       "      <th>14</th>\n",
       "      <td>Guess</td>\n",
       "      <td>i01g07</td>\n",
       "      <td>NaN</td>\n",
       "      <td>..\\Raw\\20200115</td>\n",
       "      <td>GUESS-I01G07 - Kids Shorts with waistbelt &amp; bo...</td>\n",
       "      <td>Servicing Waist Belt (Fl) - Tube, Single</td>\n",
       "      <td>F/L</td>\n",
       "      <td>0.161614</td>\n",
       "      <td>371.255195</td>\n",
       "      <td>1.0</td>\n",
       "      <td>0.0</td>\n",
       "      <td>371.255195</td>\n",
       "      <td>4.491402</td>\n",
       "      <td>12.0</td>\n",
       "      <td>1301</td>\n",
       "      <td>1.0</td>\n",
       "      <td>12</td>\n",
       "    </tr>\n",
       "  </tbody>\n",
       "</table>\n",
       "</div>"
      ],
      "text/plain": [
       "   buyer_ob style_ob  order_number_ob             path  \\\n",
       "0     Guess   i01g07              NaN  ..\\Raw\\20200115   \n",
       "1     Guess   i01g07              NaN  ..\\Raw\\20200115   \n",
       "2     Guess   i01g07              NaN  ..\\Raw\\20200115   \n",
       "3     Guess   i01g07              NaN  ..\\Raw\\20200115   \n",
       "4     Guess   i01g07              NaN  ..\\Raw\\20200115   \n",
       "5     Guess   i01g07              NaN  ..\\Raw\\20200115   \n",
       "6     Guess   i01g07              NaN  ..\\Raw\\20200115   \n",
       "7     Guess   i01g07              NaN  ..\\Raw\\20200115   \n",
       "8     Guess   i01g07              NaN  ..\\Raw\\20200115   \n",
       "9     Guess   i01g07              NaN  ..\\Raw\\20200115   \n",
       "10    Guess   i01g07              NaN  ..\\Raw\\20200115   \n",
       "11    Guess   i01g07              NaN  ..\\Raw\\20200115   \n",
       "12    Guess   i01g07              NaN  ..\\Raw\\20200115   \n",
       "13    Guess   i01g07              NaN  ..\\Raw\\20200115   \n",
       "14    Guess   i01g07              NaN  ..\\Raw\\20200115   \n",
       "\n",
       "                                                 file  \\\n",
       "0   GUESS-I01G07 - Kids Shorts with waistbelt & bo...   \n",
       "1   GUESS-I01G07 - Kids Shorts with waistbelt & bo...   \n",
       "2   GUESS-I01G07 - Kids Shorts with waistbelt & bo...   \n",
       "3   GUESS-I01G07 - Kids Shorts with waistbelt & bo...   \n",
       "4   GUESS-I01G07 - Kids Shorts with waistbelt & bo...   \n",
       "5   GUESS-I01G07 - Kids Shorts with waistbelt & bo...   \n",
       "6   GUESS-I01G07 - Kids Shorts with waistbelt & bo...   \n",
       "7   GUESS-I01G07 - Kids Shorts with waistbelt & bo...   \n",
       "8   GUESS-I01G07 - Kids Shorts with waistbelt & bo...   \n",
       "9   GUESS-I01G07 - Kids Shorts with waistbelt & bo...   \n",
       "10  GUESS-I01G07 - Kids Shorts with waistbelt & bo...   \n",
       "11  GUESS-I01G07 - Kids Shorts with waistbelt & bo...   \n",
       "12  GUESS-I01G07 - Kids Shorts with waistbelt & bo...   \n",
       "13  GUESS-I01G07 - Kids Shorts with waistbelt & bo...   \n",
       "14  GUESS-I01G07 - Kids Shorts with waistbelt & bo...   \n",
       "\n",
       "                                           process_ob machine_type_ob  \\\n",
       "0                                   Attach Front Rise             O/L   \n",
       "1                                    Attach Back Rise             O/L   \n",
       "2                     Set Front & Back Part, Together             HEL   \n",
       "3   Seam Side - Bottom, Solid, No Label, Both Side...             O/L   \n",
       "4   Seam Side - Bottom, Solid, No Label, Both Side...             O/L   \n",
       "5                                  Inseam - Auto Trim             O/L   \n",
       "6                                  Inseam - Auto Trim             O/L   \n",
       "7                                Tack At Crotch Point             S/N   \n",
       "8                              Elastic M & Cut + Iron             HEL   \n",
       "9                                   Make Elastic Ring             S/N   \n",
       "10                            Mark For Elastic Attach             HEL   \n",
       "11         Make Waist Belt - Manual Chain Cut, Single             S/N   \n",
       "12                Fold & Tack Waist Belt With Elastic             S/N   \n",
       "13                Fold & Tack Waist Belt With Elastic             S/N   \n",
       "14           Servicing Waist Belt (Fl) - Tube, Single             F/L   \n",
       "\n",
       "    individual_smv_ob  standard_target_ob  operator_ob  helper_ob  \\\n",
       "0            0.189000          317.460317          1.0        0.0   \n",
       "1            0.196993          304.579969          1.0        0.0   \n",
       "2            0.147000          408.163265          0.0        1.0   \n",
       "3            0.319729          187.658806          2.0        0.0   \n",
       "4            0.319729          187.658806          2.0        0.0   \n",
       "5            0.216118          277.626626          2.0        0.0   \n",
       "6            0.216118          277.626626          2.0        0.0   \n",
       "7            0.099000          606.060606          1.0        0.0   \n",
       "8            0.120000          500.000000          0.0        1.0   \n",
       "9            0.203000          295.566502          1.0        0.0   \n",
       "10           0.185000          324.324324          0.0        1.0   \n",
       "11           0.139000          431.654676          1.0        0.0   \n",
       "12           0.398000          150.753769          2.0        0.0   \n",
       "13           0.398000          150.753769          2.0        0.0   \n",
       "14           0.161614          371.255195          1.0        0.0   \n",
       "\n",
       "    actual_target_ob  total_smv  operation_id factory_code  allocated_mp  \\\n",
       "0         317.460317   4.491402           1.0         1301           1.0   \n",
       "1         304.579969   4.491402           2.0         1301           1.0   \n",
       "2         408.163265   4.491402           3.0         1301           1.0   \n",
       "3         375.317613   4.491402           4.0         1301           2.0   \n",
       "4         375.317613   4.491402           4.0         1301           2.0   \n",
       "5         555.253251   4.491402           5.0         1301           2.0   \n",
       "6         555.253251   4.491402           5.0         1301           2.0   \n",
       "7         606.060606   4.491402           6.0         1301           1.0   \n",
       "8         500.000000   4.491402           7.0         1301           1.0   \n",
       "9         295.566502   4.491402           8.0         1301           1.0   \n",
       "10        324.324324   4.491402           9.0         1301           1.0   \n",
       "11        431.654676   4.491402          10.0         1301           1.0   \n",
       "12        301.507538   4.491402          11.0         1301           2.0   \n",
       "13        301.507538   4.491402          11.0         1301           2.0   \n",
       "14        371.255195   4.491402          12.0         1301           1.0   \n",
       "\n",
       "   op_no_ipa  \n",
       "0          1  \n",
       "1          2  \n",
       "2          3  \n",
       "3         4A  \n",
       "4         4B  \n",
       "5         5A  \n",
       "6         5B  \n",
       "7          6  \n",
       "8          7  \n",
       "9          8  \n",
       "10         9  \n",
       "11        10  \n",
       "12       11A  \n",
       "13       11B  \n",
       "14        12  "
      ]
     },
     "execution_count": 131,
     "metadata": {},
     "output_type": "execute_result"
    }
   ],
   "source": [
    "DF.head(15)"
   ]
  },
  {
   "cell_type": "code",
   "execution_count": 132,
   "metadata": {},
   "outputs": [],
   "source": [
    "DF.reset_index(drop=True,inplace=True)"
   ]
  },
  {
   "cell_type": "code",
   "execution_count": null,
   "metadata": {},
   "outputs": [],
   "source": []
  },
  {
   "cell_type": "code",
   "execution_count": 133,
   "metadata": {},
   "outputs": [],
   "source": [
    "DF.style_ob = DF.style_ob.str.strip()"
   ]
  },
  {
   "cell_type": "code",
   "execution_count": 134,
   "metadata": {},
   "outputs": [],
   "source": [
    "cols = ['operation_id','factory_code','buyer_ob','style_ob','order_number_ob','process_ob','machine_type_ob',\n",
    "        'individual_smv_ob','operator_ob','helper_ob','actual_target_ob','total_smv','op_no_ipa','standard_target_ob',\n",
    "        'path', 'file']"
   ]
  },
  {
   "cell_type": "code",
   "execution_count": 135,
   "metadata": {},
   "outputs": [],
   "source": [
    "DF = DF[cols]"
   ]
  },
  {
   "cell_type": "code",
   "execution_count": 136,
   "metadata": {},
   "outputs": [],
   "source": [
    "col_dict = {'buyer_ob':\"Buyer_OB\",'style_ob':\"Style_OB\",'order_number_ob':\"Order_number_OB\",'process_ob':\"Process_OB\",\n",
    "            'machine_type_ob':\"Machine_type_OB\",'individual_smv_ob':'Individual_SMV_OB','operator_ob':\"Operator_OB\",\n",
    "            'helper_ob':'Helper_OB','actual_target_ob':\"Actual_target_OB\",'total_smv':\"ttl_smv\"}"
   ]
  },
  {
   "cell_type": "code",
   "execution_count": 137,
   "metadata": {},
   "outputs": [],
   "source": [
    "DF.rename(columns=col_dict,inplace=True)"
   ]
  },
  {
   "cell_type": "code",
   "execution_count": 138,
   "metadata": {},
   "outputs": [
    {
     "data": {
      "text/plain": [
       "495"
      ]
     },
     "execution_count": 138,
     "metadata": {},
     "output_type": "execute_result"
    }
   ],
   "source": [
    "len(DF)"
   ]
  },
  {
   "cell_type": "markdown",
   "metadata": {},
   "source": [
    "## Check if the styles have already been extracted, if not we need to append those with the master OB file. "
   ]
  },
  {
   "cell_type": "code",
   "execution_count": 139,
   "metadata": {},
   "outputs": [],
   "source": [
    "#reading in the main ob file\n",
    "main_ob = pd.read_csv(r\"../Done/MasterOB.csv\")"
   ]
  },
  {
   "cell_type": "code",
   "execution_count": 140,
   "metadata": {},
   "outputs": [
    {
     "data": {
      "text/plain": [
       "73852"
      ]
     },
     "execution_count": 140,
     "metadata": {},
     "output_type": "execute_result"
    }
   ],
   "source": [
    "len(main_ob)"
   ]
  },
  {
   "cell_type": "code",
   "execution_count": null,
   "metadata": {},
   "outputs": [],
   "source": []
  },
  {
   "cell_type": "code",
   "execution_count": 141,
   "metadata": {},
   "outputs": [
    {
     "data": {
      "text/plain": [
       "[]"
      ]
     },
     "execution_count": 141,
     "metadata": {},
     "output_type": "execute_result"
    }
   ],
   "source": [
    "#checking if the column names are same\n",
    "[item for item in DF.columns if item not in main_ob.columns.unique()]"
   ]
  },
  {
   "cell_type": "code",
   "execution_count": 142,
   "metadata": {},
   "outputs": [],
   "source": [
    "#checking if the styles are already in the main OB master data\n",
    "style_list = [item for item in DF['Style_OB'].unique() if item in main_ob[\"Style_OB\"].unique()]"
   ]
  },
  {
   "cell_type": "code",
   "execution_count": 143,
   "metadata": {},
   "outputs": [
    {
     "data": {
      "text/plain": [
       "['i01g07',\n",
       " 'i74g03',\n",
       " 'i74g06',\n",
       " 'i74g19',\n",
       " 'i74q11',\n",
       " 'i82g10',\n",
       " 'i82g21',\n",
       " 'i93i07',\n",
       " 'i94g01',\n",
       " 'j73i49',\n",
       " 'k84b07',\n",
       " 'k84i01',\n",
       " 'k84i04']"
      ]
     },
     "execution_count": 143,
     "metadata": {},
     "output_type": "execute_result"
    }
   ],
   "source": [
    "style_list"
   ]
  },
  {
   "cell_type": "markdown",
   "metadata": {},
   "source": [
    "### This list should be empty, if not we need to look for the styles in the main database first (workbench ob table) and if they are there and have the same total SVM's, we will remove the files from the raw folder we are currently working on and extract again till the list is empty. But if the SVM's are different then we need to talk to the collection team to be sure whether they are new styles or not."
   ]
  },
  {
   "cell_type": "code",
   "execution_count": null,
   "metadata": {},
   "outputs": [],
   "source": []
  },
  {
   "cell_type": "code",
   "execution_count": 144,
   "metadata": {},
   "outputs": [],
   "source": [
    "style_dict_db = {}\n",
    "for key,data in DF[DF['Style_OB'].isin(style_list)].groupby(by='Style_OB'):\n",
    "    style_dict_db[key] = float(str(data.ttl_smv.unique()[0])[:5])"
   ]
  },
  {
   "cell_type": "code",
   "execution_count": null,
   "metadata": {},
   "outputs": [],
   "source": []
  },
  {
   "cell_type": "code",
   "execution_count": 145,
   "metadata": {},
   "outputs": [],
   "source": [
    "style_dict_maindb = {}\n",
    "for key,data in main_ob[main_ob['Style_OB'].isin(style_list)].groupby(by='Style_OB'):\n",
    "    style_dict_maindb[key] = float(str(data.ttl_smv.unique()[0])[:5])"
   ]
  },
  {
   "cell_type": "code",
   "execution_count": null,
   "metadata": {},
   "outputs": [],
   "source": []
  },
  {
   "cell_type": "code",
   "execution_count": 146,
   "metadata": {},
   "outputs": [
    {
     "data": {
      "text/plain": [
       "{'i01g07': 4.491,\n",
       " 'i74g03': 6.818,\n",
       " 'i74g06': 6.305,\n",
       " 'i74g19': 4.525,\n",
       " 'i74q11': 6.337,\n",
       " 'i82g10': 4.836,\n",
       " 'i82g21': 6.912,\n",
       " 'i93i07': 6.096,\n",
       " 'i94g01': 6.143,\n",
       " 'j73i49': 5.304,\n",
       " 'k84b07': 3.175,\n",
       " 'k84i01': 3.398,\n",
       " 'k84i04': 3.502}"
      ]
     },
     "execution_count": 146,
     "metadata": {},
     "output_type": "execute_result"
    }
   ],
   "source": [
    "style_dict_db"
   ]
  },
  {
   "cell_type": "code",
   "execution_count": 147,
   "metadata": {},
   "outputs": [
    {
     "data": {
      "text/plain": [
       "{'i01g07': 5.475,\n",
       " 'i74g03': 6.818,\n",
       " 'i74g06': 6.883,\n",
       " 'i74g19': 4.525,\n",
       " 'i74q11': 6.337,\n",
       " 'i82g10': 5.043,\n",
       " 'i82g21': 6.912,\n",
       " 'i93i07': 6.096,\n",
       " 'i94g01': 5.189,\n",
       " 'j73i49': 5.304,\n",
       " 'k84b07': 3.175,\n",
       " 'k84i01': 3.398,\n",
       " 'k84i04': 3.502}"
      ]
     },
     "execution_count": 147,
     "metadata": {},
     "output_type": "execute_result"
    }
   ],
   "source": [
    "style_dict_maindb"
   ]
  },
  {
   "cell_type": "code",
   "execution_count": null,
   "metadata": {},
   "outputs": [],
   "source": []
  },
  {
   "cell_type": "code",
   "execution_count": 148,
   "metadata": {},
   "outputs": [
    {
     "name": "stderr",
     "output_type": "stream",
     "text": [
      "C:\\ProgramData\\Anaconda3\\lib\\site-packages\\ipykernel_launcher.py:8: DeprecationWarning: \n",
      ".ix is deprecated. Please use\n",
      ".loc for label based indexing or\n",
      ".iloc for positional indexing\n",
      "\n",
      "See the documentation here:\n",
      "http://pandas.pydata.org/pandas-docs/stable/indexing.html#ix-indexer-is-deprecated\n",
      "  \n"
     ]
    }
   ],
   "source": [
    "del_style_list = []\n",
    "for style_ in style_list:\n",
    "    if style_dict_db[style_] == style_dict_maindb[style_]:\n",
    "        del_style_list.append(style_)\n",
    "    else:\n",
    "        new_style = style_+'-'+''.join(str(datetime.datetime.today().date()).split('-'))\n",
    "        indices = DF[DF.Style_OB == style_].index\n",
    "        DF.ix[indices,'Style_OB'] = new_style"
   ]
  },
  {
   "cell_type": "code",
   "execution_count": 149,
   "metadata": {},
   "outputs": [
    {
     "data": {
      "text/plain": [
       "['i74g03',\n",
       " 'i74g19',\n",
       " 'i74q11',\n",
       " 'i82g21',\n",
       " 'i93i07',\n",
       " 'j73i49',\n",
       " 'k84b07',\n",
       " 'k84i01',\n",
       " 'k84i04']"
      ]
     },
     "execution_count": 149,
     "metadata": {},
     "output_type": "execute_result"
    }
   ],
   "source": [
    "del_style_list"
   ]
  },
  {
   "cell_type": "code",
   "execution_count": null,
   "metadata": {},
   "outputs": [],
   "source": []
  },
  {
   "cell_type": "code",
   "execution_count": 150,
   "metadata": {},
   "outputs": [],
   "source": [
    "del_indices = DF[DF.Style_OB.isin(del_style_list)].index\n",
    "del_path = originalDF[originalDF.Style_OB.str.lower().isin(del_style_list)].path.unique()[0]\n",
    "del_files = originalDF[originalDF.Style_OB.str.lower().isin(del_style_list)].file.unique()"
   ]
  },
  {
   "cell_type": "code",
   "execution_count": 151,
   "metadata": {},
   "outputs": [
    {
     "data": {
      "text/plain": [
       "495"
      ]
     },
     "execution_count": 151,
     "metadata": {},
     "output_type": "execute_result"
    }
   ],
   "source": [
    "len(DF)"
   ]
  },
  {
   "cell_type": "code",
   "execution_count": 152,
   "metadata": {},
   "outputs": [],
   "source": [
    "DF.drop(del_indices,inplace=True)\n",
    "DF.reset_index(drop=True,inplace=True)"
   ]
  },
  {
   "cell_type": "code",
   "execution_count": 153,
   "metadata": {},
   "outputs": [
    {
     "data": {
      "text/plain": [
       "228"
      ]
     },
     "execution_count": 153,
     "metadata": {},
     "output_type": "execute_result"
    }
   ],
   "source": [
    "len(DF)"
   ]
  },
  {
   "cell_type": "code",
   "execution_count": 154,
   "metadata": {},
   "outputs": [],
   "source": [
    "for file_ in del_files:\n",
    "    os.remove(del_path+\"\\\\\"+file_)"
   ]
  },
  {
   "cell_type": "code",
   "execution_count": null,
   "metadata": {},
   "outputs": [],
   "source": []
  },
  {
   "cell_type": "markdown",
   "metadata": {},
   "source": [
    "### Updatting Master File"
   ]
  },
  {
   "cell_type": "code",
   "execution_count": 155,
   "metadata": {},
   "outputs": [
    {
     "data": {
      "text/plain": [
       "73852"
      ]
     },
     "execution_count": 155,
     "metadata": {},
     "output_type": "execute_result"
    }
   ],
   "source": [
    "len(main_ob)"
   ]
  },
  {
   "cell_type": "code",
   "execution_count": 156,
   "metadata": {},
   "outputs": [
    {
     "name": "stderr",
     "output_type": "stream",
     "text": [
      "C:\\ProgramData\\Anaconda3\\lib\\site-packages\\pandas\\core\\frame.py:6692: FutureWarning: Sorting because non-concatenation axis is not aligned. A future version\n",
      "of pandas will change to not sort by default.\n",
      "\n",
      "To accept the future behavior, pass 'sort=False'.\n",
      "\n",
      "To retain the current behavior and silence the warning, pass 'sort=True'.\n",
      "\n",
      "  sort=sort)\n"
     ]
    }
   ],
   "source": [
    "#appending new file with the master file\n",
    "main_ob = main_ob.append(DF, ignore_index=True)"
   ]
  },
  {
   "cell_type": "code",
   "execution_count": 157,
   "metadata": {},
   "outputs": [
    {
     "data": {
      "text/plain": [
       "74080"
      ]
     },
     "execution_count": 157,
     "metadata": {},
     "output_type": "execute_result"
    }
   ],
   "source": [
    "len(main_ob)"
   ]
  },
  {
   "cell_type": "markdown",
   "metadata": {},
   "source": [
    "### Making Output Files"
   ]
  },
  {
   "cell_type": "code",
   "execution_count": null,
   "metadata": {},
   "outputs": [],
   "source": []
  },
  {
   "cell_type": "code",
   "execution_count": null,
   "metadata": {},
   "outputs": [],
   "source": []
  },
  {
   "cell_type": "code",
   "execution_count": 161,
   "metadata": {},
   "outputs": [],
   "source": [
    "today_ = ''.join(str(datetime.datetime.today().date()).split('-'))\n",
    "DF.to_csv(\"../Done/1301 OB updated \"+today_+\".csv\", index=False,encoding='utf-8')\n",
    "DF.to_pickle(\"../Done/1301 OB updated \"+today_)\n",
    "main_ob.to_csv(\"../Done/MasterOB \"+today_+\".csv\",index=False)"
   ]
  },
  {
   "cell_type": "code",
   "execution_count": null,
   "metadata": {},
   "outputs": [],
   "source": []
  },
  {
   "cell_type": "markdown",
   "metadata": {},
   "source": [
    "## Upload only the latest extracted file, not the main file (MasterOB) we just made."
   ]
  },
  {
   "cell_type": "code",
   "execution_count": null,
   "metadata": {},
   "outputs": [],
   "source": []
  },
  {
   "cell_type": "code",
   "execution_count": null,
   "metadata": {},
   "outputs": [],
   "source": []
  },
  {
   "cell_type": "code",
   "execution_count": null,
   "metadata": {},
   "outputs": [],
   "source": []
  },
  {
   "cell_type": "markdown",
   "metadata": {
    "collapsed": true
   },
   "source": [
    "# Creating the SQL Code for the server upload if required (optional)"
   ]
  },
  {
   "cell_type": "code",
   "execution_count": null,
   "metadata": {},
   "outputs": [],
   "source": []
  },
  {
   "cell_type": "code",
   "execution_count": null,
   "metadata": {},
   "outputs": [],
   "source": []
  },
  {
   "cell_type": "code",
   "execution_count": null,
   "metadata": {},
   "outputs": [],
   "source": [
    "ob_df"
   ]
  },
  {
   "cell_type": "code",
   "execution_count": null,
   "metadata": {},
   "outputs": [],
   "source": [
    "ob_df.columns"
   ]
  },
  {
   "cell_type": "code",
   "execution_count": null,
   "metadata": {},
   "outputs": [],
   "source": [
    "for row in ob_df.index:\n",
    "    print('INSERT INTO `operation_breakdown` (`operation_id`, `Buyer_OB`, `Style_OB`, `Order_number_OB`, `file`, `Process_OB`, `Machine_type_OB`, `Individual_SMV_OB`, `Standard_target_OB`, `Operator_OB`, `Helper_OB`, `Actual_target_OB`) VALUES (NULL,' \n",
    "    +\"'\"+str(ob_df.loc[row, 'Buyer_OB'])+\"',\"\n",
    "    +\"'\"+str(ob_df.loc[row, 'Style_OB'])+\"',\"\n",
    "    +\"'\"+str(ob_df.loc[row, 'Order_number_OB'])+\"',\"  \n",
    "    +\"'\"+str(ob_df.loc[row, 'file'])+\"',\"\n",
    "    +\"'\"+str(ob_df.loc[row, 'Process_OB'])+\"',\"\n",
    "    +\"'\"+str(ob_df.loc[row, 'Machine_type_OB'])+\"',\"\n",
    "    +\"'\"+str(ob_df.loc[row, 'Individual_SMV_OB'])+\"',\"\n",
    "    +\"'\"+str(ob_df.loc[row, 'Standard_target_OB'])+\"',\"\n",
    "    +\"'\"+str(ob_df.loc[row, 'Operator_OB'])+\"',\"\n",
    "    +\"'\"+str(ob_df.loc[row, 'Helper_OB'])+\"',\"\n",
    "    +\"'\"+str(ob_df.loc[row, 'Actual_target_OB'])+\"');\"\n",
    "    )"
   ]
  },
  {
   "cell_type": "code",
   "execution_count": null,
   "metadata": {},
   "outputs": [],
   "source": []
  }
 ],
 "metadata": {
  "kernelspec": {
   "display_name": "Python 3",
   "language": "python",
   "name": "python3"
  },
  "language_info": {
   "codemirror_mode": {
    "name": "ipython",
    "version": 3
   },
   "file_extension": ".py",
   "mimetype": "text/x-python",
   "name": "python",
   "nbconvert_exporter": "python",
   "pygments_lexer": "ipython3",
   "version": "3.7.3"
  }
 },
 "nbformat": 4,
 "nbformat_minor": 2
}
